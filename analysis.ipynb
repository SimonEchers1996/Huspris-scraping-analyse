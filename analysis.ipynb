{
 "cells": [
  {
   "cell_type": "markdown",
   "metadata": {},
   "source": [
    "# This notebook is for analysis"
   ]
  },
  {
   "cell_type": "markdown",
   "metadata": {},
   "source": [
    "## Loading and processing\n",
    "Here I will do all of the manipulation, processing and transformation of the data, motivating it either by its intrinsic value or by later usage."
   ]
  },
  {
   "cell_type": "markdown",
   "metadata": {},
   "source": [
    "First we import all the data and get a summary of it."
   ]
  },
  {
   "cell_type": "code",
   "execution_count": 1,
   "metadata": {},
   "outputs": [
    {
     "data": {
      "text/plain": [
       "(             Adresse                   Post nr.       Pris    År  \\\n",
       " 0   Munkerodgyden 11    Stegsted, 5200 Odense V  3000000.0  2025   \n",
       " 1        Lodsvej 25B       Stige, 5270 Odense N   803200.0  2024   \n",
       " 2      Assensvej 243   Bellinge, 5250 Odense SV   844500.0  2024   \n",
       " 3      Blommehaven 2     Bullerup, 5320 Agedrup   865850.0  2023   \n",
       " 4  Planteskolevej 17  Holmstrup, 5250 Odense SV  1170000.0  2023   \n",
       " \n",
       "    Størrelse (m2)  Værelser  Toiletter   Handel  \n",
       " 0             274         6          2  Auktion  \n",
       " 1             141         6          2  Auktion  \n",
       " 2             153         5          2  Auktion  \n",
       " 3             139         6          1  Auktion  \n",
       " 4             184         7          2  Auktion  ,\n",
       "                Pris            År  Størrelse (m2)      Værelser     Toiletter\n",
       " count  1.077100e+04  10771.000000    10771.000000  10771.000000  10771.000000\n",
       " mean   2.805764e+06   2022.394392      121.510073      4.158945      1.506731\n",
       " std    3.634173e+06      1.293101       48.139599      1.563271      0.599308\n",
       " min    1.105000e+04   2019.000000       24.000000      1.000000      1.000000\n",
       " 25%    1.500000e+06   2021.000000       87.000000      3.000000      1.000000\n",
       " 50%    2.100000e+06   2022.000000      114.000000      4.000000      1.000000\n",
       " 75%    2.995000e+06   2024.000000      150.000000      5.000000      2.000000\n",
       " max    8.000000e+07   2025.000000      524.000000     17.000000      6.000000)"
      ]
     },
     "execution_count": 1,
     "metadata": {},
     "output_type": "execute_result"
    }
   ],
   "source": [
    "import pandas as pd\n",
    "data = pd.read_csv('ScrapedPrices.csv')\n",
    "data.head(), data.describe()"
   ]
  },
  {
   "cell_type": "markdown",
   "metadata": {},
   "source": [
    "From the information above we conclude that there are 10777 properties in the dataset. We have houses tracking back all the way to 2019 which we shouldn't since the search term in the scraping should be from 2020 and onwards. The most expensive house is one sold for 80 million danish crowns. \n",
    "\n",
    "Let us do a sanity check and see what house this is."
   ]
  },
  {
   "cell_type": "code",
   "execution_count": 2,
   "metadata": {},
   "outputs": [
    {
     "data": {
      "text/html": [
       "<div>\n",
       "<style scoped>\n",
       "    .dataframe tbody tr th:only-of-type {\n",
       "        vertical-align: middle;\n",
       "    }\n",
       "\n",
       "    .dataframe tbody tr th {\n",
       "        vertical-align: top;\n",
       "    }\n",
       "\n",
       "    .dataframe thead th {\n",
       "        text-align: right;\n",
       "    }\n",
       "</style>\n",
       "<table border=\"1\" class=\"dataframe\">\n",
       "  <thead>\n",
       "    <tr style=\"text-align: right;\">\n",
       "      <th></th>\n",
       "      <th>Adresse</th>\n",
       "      <th>Post nr.</th>\n",
       "      <th>Pris</th>\n",
       "      <th>År</th>\n",
       "      <th>Størrelse (m2)</th>\n",
       "      <th>Værelser</th>\n",
       "      <th>Toiletter</th>\n",
       "      <th>Handel</th>\n",
       "    </tr>\n",
       "  </thead>\n",
       "  <tbody>\n",
       "    <tr>\n",
       "      <th>8895</th>\n",
       "      <td>Falen 61C</td>\n",
       "      <td>5000 Odense C</td>\n",
       "      <td>80000000.0</td>\n",
       "      <td>2021</td>\n",
       "      <td>59</td>\n",
       "      <td>2</td>\n",
       "      <td>1</td>\n",
       "      <td>Fri handel</td>\n",
       "    </tr>\n",
       "  </tbody>\n",
       "</table>\n",
       "</div>"
      ],
      "text/plain": [
       "        Adresse       Post nr.        Pris    År  Størrelse (m2)  Værelser  \\\n",
       "8895  Falen 61C  5000 Odense C  80000000.0  2021              59         2   \n",
       "\n",
       "      Toiletter      Handel  \n",
       "8895          1  Fri handel  "
      ]
     },
     "execution_count": 2,
     "metadata": {},
     "output_type": "execute_result"
    }
   ],
   "source": [
    "most_expensive_house = data[data['Pris']==80*10**6]\n",
    "most_expensive_house"
   ]
  },
  {
   "cell_type": "markdown",
   "metadata": {},
   "source": [
    "We see that the most expensive house in the dataset is 59 square meter apartment sold for 80 million danish crowns back in 2021 - (link to the apartment:https://www.boligsiden.dk/adresse/falen-61c-5000-odense-c-04612188_61c_______)\n",
    "\n",
    "This does not immediately make sense, but the scraping has been done successfully, since the property does exist from the pages we scraped from. This we will later consider an outlier."
   ]
  },
  {
   "cell_type": "markdown",
   "metadata": {},
   "source": [
    "I want to look at the distribution of the properties on the ZIP codes and the years, to see if we have fairly similar distributions as to not skew towards a category favourly later."
   ]
  },
  {
   "cell_type": "code",
   "execution_count": 3,
   "metadata": {},
   "outputs": [
    {
     "data": {
      "text/plain": [
       "(Post nr.\n",
       " 5000 Odense C                    2727\n",
       " 5230 Odense M                     916\n",
       " Sanderum, 5250 Odense SV          519\n",
       " Hjallese, 5260 Odense S           495\n",
       " Dalum, 5250 Odense SV             454\n",
       "                                  ... \n",
       " Ejlstrup, 5491 Blommenslyst         2\n",
       " Hesbjerg, 5491 Blommenslyst         2\n",
       " Tarup, 5000 Odense C                2\n",
       " L Hesbjerg, 5491 Blommenslyst       1\n",
       " Højby, 5220 Odense SØ               1\n",
       " Name: count, Length: 87, dtype: int64,\n",
       " År\n",
       " 2021    2938\n",
       " 2024    2626\n",
       " 2023    2329\n",
       " 2022    2186\n",
       " 2020     463\n",
       " 2025     203\n",
       " 2019      26\n",
       " Name: count, dtype: int64,\n",
       " Adresse\n",
       " Højstrupvangen 31     2\n",
       " Skovhaven 113         2\n",
       " Kærbygade 22          2\n",
       " Windelsvej 68         2\n",
       " Vangelystvej 40       2\n",
       "                      ..\n",
       " Spiræavænget 8        1\n",
       " Saxovej 166           1\n",
       " Fengersvej 32, st.    1\n",
       " Fengersvej 32, 1.     1\n",
       " Rughavevej 4, 1.      1\n",
       " Name: count, Length: 10723, dtype: int64)"
      ]
     },
     "execution_count": 3,
     "metadata": {},
     "output_type": "execute_result"
    }
   ],
   "source": [
    "data['Post nr.'].value_counts(), data['År'].value_counts(), data['Adresse'].value_counts()"
   ]
  },
  {
   "cell_type": "markdown",
   "metadata": {},
   "source": [
    "We see that there are addresses that appear twice in the dataset. "
   ]
  },
  {
   "cell_type": "code",
   "execution_count": 4,
   "metadata": {},
   "outputs": [
    {
     "data": {
      "text/html": [
       "<div>\n",
       "<style scoped>\n",
       "    .dataframe tbody tr th:only-of-type {\n",
       "        vertical-align: middle;\n",
       "    }\n",
       "\n",
       "    .dataframe tbody tr th {\n",
       "        vertical-align: top;\n",
       "    }\n",
       "\n",
       "    .dataframe thead th {\n",
       "        text-align: right;\n",
       "    }\n",
       "</style>\n",
       "<table border=\"1\" class=\"dataframe\">\n",
       "  <thead>\n",
       "    <tr style=\"text-align: right;\">\n",
       "      <th></th>\n",
       "      <th>Adresse</th>\n",
       "      <th>Post nr.</th>\n",
       "      <th>Pris</th>\n",
       "      <th>År</th>\n",
       "      <th>Størrelse (m2)</th>\n",
       "      <th>Værelser</th>\n",
       "      <th>Toiletter</th>\n",
       "      <th>Handel</th>\n",
       "    </tr>\n",
       "  </thead>\n",
       "  <tbody>\n",
       "    <tr>\n",
       "      <th>9983</th>\n",
       "      <td>Højstrupvangen 31</td>\n",
       "      <td>Bolbro, 5200 Odense V</td>\n",
       "      <td>1310000.0</td>\n",
       "      <td>2021</td>\n",
       "      <td>61</td>\n",
       "      <td>2</td>\n",
       "      <td>1</td>\n",
       "      <td>Fri handel</td>\n",
       "    </tr>\n",
       "    <tr>\n",
       "      <th>9984</th>\n",
       "      <td>Højstrupvangen 31</td>\n",
       "      <td>Bolbro, 5200 Odense V</td>\n",
       "      <td>1310000.0</td>\n",
       "      <td>2021</td>\n",
       "      <td>61</td>\n",
       "      <td>2</td>\n",
       "      <td>1</td>\n",
       "      <td>Fri handel</td>\n",
       "    </tr>\n",
       "  </tbody>\n",
       "</table>\n",
       "</div>"
      ],
      "text/plain": [
       "                Adresse               Post nr.       Pris    År  \\\n",
       "9983  Højstrupvangen 31  Bolbro, 5200 Odense V  1310000.0  2021   \n",
       "9984  Højstrupvangen 31  Bolbro, 5200 Odense V  1310000.0  2021   \n",
       "\n",
       "      Størrelse (m2)  Værelser  Toiletter      Handel  \n",
       "9983              61         2          1  Fri handel  \n",
       "9984              61         2          1  Fri handel  "
      ]
     },
     "execution_count": 4,
     "metadata": {},
     "output_type": "execute_result"
    }
   ],
   "source": [
    "double_address = data[data['Adresse'] == 'Højstrupvangen 31']\n",
    "double_address"
   ]
  },
  {
   "cell_type": "markdown",
   "metadata": {},
   "source": [
    "There are duplicates in the dataset, let us remove them."
   ]
  },
  {
   "cell_type": "code",
   "execution_count": 5,
   "metadata": {},
   "outputs": [
    {
     "data": {
      "text/plain": [
       "(                Adresse               Post nr.       Pris    År  \\\n",
       " 9983  Højstrupvangen 31  Bolbro, 5200 Odense V  1310000.0  2021   \n",
       " \n",
       "       Størrelse (m2)  Værelser  Toiletter      Handel  \n",
       " 9983              61         2          1  Fri handel  ,\n",
       " Adresse\n",
       " Munkerodgyden 11              1\n",
       " Rulkedalen 86                 1\n",
       " Hjulets Kvarter 48            1\n",
       " Persillehaven 31              1\n",
       " Læssøegade 89, st.            1\n",
       "                              ..\n",
       " Nellikevej 16                 1\n",
       " Gyldenløvesgade 11, 1. tv.    1\n",
       " Vinkældervej 40, 1. tv.       1\n",
       " Sanderumvej 140A              1\n",
       " Rughavevej 4, 1.              1\n",
       " Name: count, Length: 10723, dtype: int64)"
      ]
     },
     "execution_count": 5,
     "metadata": {},
     "output_type": "execute_result"
    }
   ],
   "source": [
    "data = data.drop_duplicates()\n",
    "data[data['Adresse'] == 'Højstrupvangen 31'], data['Adresse'].value_counts()"
   ]
  },
  {
   "cell_type": "markdown",
   "metadata": {},
   "source": [
    "It wasn't really a problem that an address would appear twice in the dataset. It could just mean that the sold has been sold twice in the period from 2019 till current time. But we see that this hasn't been the case for any of the addresses appearing twice in the dataset. We also lost a significant portion of houses somewhere in the ballpark of 800."
   ]
  },
  {
   "cell_type": "markdown",
   "metadata": {},
   "source": [
    "I want to compute a normalized price for 2025. But before that I want to change the scale of the number from being in the millions and hundred thousands to be less than 100."
   ]
  },
  {
   "cell_type": "code",
   "execution_count": 6,
   "metadata": {},
   "outputs": [],
   "source": [
    "data['Pris i mio. kr.'] = data['Pris']/(10**6)"
   ]
  },
  {
   "cell_type": "markdown",
   "metadata": {},
   "source": [
    "House prices fluctuate over time, but I want to eliminate that as a factor and make a normalized price to be used for training later. A recurring theme when scrolling through pages of information about the housing market in Odense municipality, is that we witnessed a drop in price in 2022. This should obviously be accounted for. With this page(link: https://www.boliga.dk/boligpriser/resultater?area=77461&type=1&data=0) I can somewhat normalize the prices into a current 2025 one."
   ]
  },
  {
   "cell_type": "code",
   "execution_count": 7,
   "metadata": {},
   "outputs": [
    {
     "data": {
      "text/html": [
       "<div>\n",
       "<style scoped>\n",
       "    .dataframe tbody tr th:only-of-type {\n",
       "        vertical-align: middle;\n",
       "    }\n",
       "\n",
       "    .dataframe tbody tr th {\n",
       "        vertical-align: top;\n",
       "    }\n",
       "\n",
       "    .dataframe thead th {\n",
       "        text-align: right;\n",
       "    }\n",
       "</style>\n",
       "<table border=\"1\" class=\"dataframe\">\n",
       "  <thead>\n",
       "    <tr style=\"text-align: right;\">\n",
       "      <th></th>\n",
       "      <th>Adresse</th>\n",
       "      <th>Post nr.</th>\n",
       "      <th>Pris</th>\n",
       "      <th>År</th>\n",
       "      <th>Størrelse (m2)</th>\n",
       "      <th>Værelser</th>\n",
       "      <th>Toiletter</th>\n",
       "      <th>Handel</th>\n",
       "      <th>Pris i mio. kr.</th>\n",
       "      <th>Normaliseret Pris (2025)</th>\n",
       "      <th>Normaliseret Pris i mio. kr. (2025)</th>\n",
       "    </tr>\n",
       "  </thead>\n",
       "  <tbody>\n",
       "    <tr>\n",
       "      <th>0</th>\n",
       "      <td>Munkerodgyden 11</td>\n",
       "      <td>Stegsted, 5200 Odense V</td>\n",
       "      <td>3000000.0</td>\n",
       "      <td>2025</td>\n",
       "      <td>274</td>\n",
       "      <td>6</td>\n",
       "      <td>2</td>\n",
       "      <td>Auktion</td>\n",
       "      <td>3.00000</td>\n",
       "      <td>3.000000e+06</td>\n",
       "      <td>3.000000</td>\n",
       "    </tr>\n",
       "    <tr>\n",
       "      <th>1</th>\n",
       "      <td>Lodsvej 25B</td>\n",
       "      <td>Stige, 5270 Odense N</td>\n",
       "      <td>803200.0</td>\n",
       "      <td>2024</td>\n",
       "      <td>141</td>\n",
       "      <td>6</td>\n",
       "      <td>2</td>\n",
       "      <td>Auktion</td>\n",
       "      <td>0.80320</td>\n",
       "      <td>8.032000e+05</td>\n",
       "      <td>0.803200</td>\n",
       "    </tr>\n",
       "    <tr>\n",
       "      <th>2</th>\n",
       "      <td>Assensvej 243</td>\n",
       "      <td>Bellinge, 5250 Odense SV</td>\n",
       "      <td>844500.0</td>\n",
       "      <td>2024</td>\n",
       "      <td>153</td>\n",
       "      <td>5</td>\n",
       "      <td>2</td>\n",
       "      <td>Auktion</td>\n",
       "      <td>0.84450</td>\n",
       "      <td>8.445000e+05</td>\n",
       "      <td>0.844500</td>\n",
       "    </tr>\n",
       "    <tr>\n",
       "      <th>3</th>\n",
       "      <td>Blommehaven 2</td>\n",
       "      <td>Bullerup, 5320 Agedrup</td>\n",
       "      <td>865850.0</td>\n",
       "      <td>2023</td>\n",
       "      <td>139</td>\n",
       "      <td>6</td>\n",
       "      <td>1</td>\n",
       "      <td>Auktion</td>\n",
       "      <td>0.86585</td>\n",
       "      <td>8.658100e+05</td>\n",
       "      <td>0.865810</td>\n",
       "    </tr>\n",
       "    <tr>\n",
       "      <th>4</th>\n",
       "      <td>Planteskolevej 17</td>\n",
       "      <td>Holmstrup, 5250 Odense SV</td>\n",
       "      <td>1170000.0</td>\n",
       "      <td>2023</td>\n",
       "      <td>184</td>\n",
       "      <td>7</td>\n",
       "      <td>2</td>\n",
       "      <td>Auktion</td>\n",
       "      <td>1.17000</td>\n",
       "      <td>1.169946e+06</td>\n",
       "      <td>1.169946</td>\n",
       "    </tr>\n",
       "    <tr>\n",
       "      <th>...</th>\n",
       "      <td>...</td>\n",
       "      <td>...</td>\n",
       "      <td>...</td>\n",
       "      <td>...</td>\n",
       "      <td>...</td>\n",
       "      <td>...</td>\n",
       "      <td>...</td>\n",
       "      <td>...</td>\n",
       "      <td>...</td>\n",
       "      <td>...</td>\n",
       "      <td>...</td>\n",
       "    </tr>\n",
       "    <tr>\n",
       "      <th>10766</th>\n",
       "      <td>Buen 31</td>\n",
       "      <td>Bullerup, 5320 Agedrup</td>\n",
       "      <td>950000.0</td>\n",
       "      <td>2020</td>\n",
       "      <td>93</td>\n",
       "      <td>2</td>\n",
       "      <td>1</td>\n",
       "      <td>Fri handel</td>\n",
       "      <td>0.95000</td>\n",
       "      <td>8.946626e+05</td>\n",
       "      <td>0.894663</td>\n",
       "    </tr>\n",
       "    <tr>\n",
       "      <th>10767</th>\n",
       "      <td>Vårvangen 7</td>\n",
       "      <td>Skt Klemens, 5260 Odense S</td>\n",
       "      <td>2660000.0</td>\n",
       "      <td>2020</td>\n",
       "      <td>166</td>\n",
       "      <td>6</td>\n",
       "      <td>2</td>\n",
       "      <td>Fri handel</td>\n",
       "      <td>2.66000</td>\n",
       "      <td>2.505055e+06</td>\n",
       "      <td>2.505055</td>\n",
       "    </tr>\n",
       "    <tr>\n",
       "      <th>10768</th>\n",
       "      <td>Thuresensgade 36, st. th.</td>\n",
       "      <td>5000 Odense C</td>\n",
       "      <td>913000.0</td>\n",
       "      <td>2020</td>\n",
       "      <td>47</td>\n",
       "      <td>1</td>\n",
       "      <td>1</td>\n",
       "      <td>Fri handel</td>\n",
       "      <td>0.91300</td>\n",
       "      <td>8.598178e+05</td>\n",
       "      <td>0.859818</td>\n",
       "    </tr>\n",
       "    <tr>\n",
       "      <th>10769</th>\n",
       "      <td>Sukkeræble Have 5</td>\n",
       "      <td>Villestofte, 5210 Odense NV</td>\n",
       "      <td>4895000.0</td>\n",
       "      <td>2020</td>\n",
       "      <td>216</td>\n",
       "      <td>5</td>\n",
       "      <td>2</td>\n",
       "      <td>Fri handel</td>\n",
       "      <td>4.89500</td>\n",
       "      <td>4.609867e+06</td>\n",
       "      <td>4.609867</td>\n",
       "    </tr>\n",
       "    <tr>\n",
       "      <th>10770</th>\n",
       "      <td>Rughavevej 4, 1.</td>\n",
       "      <td>5230 Odense M</td>\n",
       "      <td>2150000.0</td>\n",
       "      <td>2020</td>\n",
       "      <td>90</td>\n",
       "      <td>3</td>\n",
       "      <td>1</td>\n",
       "      <td>Fri handel</td>\n",
       "      <td>2.15000</td>\n",
       "      <td>2.024763e+06</td>\n",
       "      <td>2.024763</td>\n",
       "    </tr>\n",
       "  </tbody>\n",
       "</table>\n",
       "<p>10723 rows × 11 columns</p>\n",
       "</div>"
      ],
      "text/plain": [
       "                         Adresse                     Post nr.       Pris  \\\n",
       "0               Munkerodgyden 11      Stegsted, 5200 Odense V  3000000.0   \n",
       "1                    Lodsvej 25B         Stige, 5270 Odense N   803200.0   \n",
       "2                  Assensvej 243     Bellinge, 5250 Odense SV   844500.0   \n",
       "3                  Blommehaven 2       Bullerup, 5320 Agedrup   865850.0   \n",
       "4              Planteskolevej 17    Holmstrup, 5250 Odense SV  1170000.0   \n",
       "...                          ...                          ...        ...   \n",
       "10766                    Buen 31       Bullerup, 5320 Agedrup   950000.0   \n",
       "10767                Vårvangen 7   Skt Klemens, 5260 Odense S  2660000.0   \n",
       "10768  Thuresensgade 36, st. th.                5000 Odense C   913000.0   \n",
       "10769          Sukkeræble Have 5  Villestofte, 5210 Odense NV  4895000.0   \n",
       "10770           Rughavevej 4, 1.                5230 Odense M  2150000.0   \n",
       "\n",
       "         År  Størrelse (m2)  Værelser  Toiletter      Handel  Pris i mio. kr.  \\\n",
       "0      2025             274         6          2     Auktion          3.00000   \n",
       "1      2024             141         6          2     Auktion          0.80320   \n",
       "2      2024             153         5          2     Auktion          0.84450   \n",
       "3      2023             139         6          1     Auktion          0.86585   \n",
       "4      2023             184         7          2     Auktion          1.17000   \n",
       "...     ...             ...       ...        ...         ...              ...   \n",
       "10766  2020              93         2          1  Fri handel          0.95000   \n",
       "10767  2020             166         6          2  Fri handel          2.66000   \n",
       "10768  2020              47         1          1  Fri handel          0.91300   \n",
       "10769  2020             216         5          2  Fri handel          4.89500   \n",
       "10770  2020              90         3          1  Fri handel          2.15000   \n",
       "\n",
       "       Normaliseret Pris (2025)  Normaliseret Pris i mio. kr. (2025)  \n",
       "0                  3.000000e+06                             3.000000  \n",
       "1                  8.032000e+05                             0.803200  \n",
       "2                  8.445000e+05                             0.844500  \n",
       "3                  8.658100e+05                             0.865810  \n",
       "4                  1.169946e+06                             1.169946  \n",
       "...                         ...                                  ...  \n",
       "10766              8.946626e+05                             0.894663  \n",
       "10767              2.505055e+06                             2.505055  \n",
       "10768              8.598178e+05                             0.859818  \n",
       "10769              4.609867e+06                             4.609867  \n",
       "10770              2.024763e+06                             2.024763  \n",
       "\n",
       "[10723 rows x 11 columns]"
      ]
     },
     "execution_count": 7,
     "metadata": {},
     "output_type": "execute_result"
    }
   ],
   "source": [
    "price_2019, price_2020, price_2021, price_2022, price_2023, price_2024 = 2854, 22970, 23836, 24639, 21633, 21632\n",
    "increase_2019, increase_2020, increase_2021, increase_2022, increase_2023 = price_2024/price_2019, price_2024/price_2020, price_2024/price_2021, price_2024/price_2022, price_2024/price_2023\n",
    "convertion = {\n",
    "    2019: increase_2019,\n",
    "    2020: increase_2020,\n",
    "    2021: increase_2021,\n",
    "    2022: increase_2022,\n",
    "    2023: increase_2023,\n",
    "    2024: 1,\n",
    "    2025: 1\n",
    "}\n",
    "data['Normaliseret Pris (2025)'] = data.apply(lambda row: convertion[row.År]*row.Pris, axis=1)\n",
    "data['Normaliseret Pris i mio. kr. (2025)'] = data.apply(lambda row: convertion[row.År]*row['Pris i mio. kr.'], axis=1)\n",
    "data"
   ]
  },
  {
   "cell_type": "markdown",
   "metadata": {},
   "source": [
    "This might be revisited in favor of more sophisticated or accurate approaches, but for now it will do."
   ]
  },
  {
   "cell_type": "markdown",
   "metadata": {},
   "source": [
    "For easier and comprehensive visualization I will add a column of the ZIP codes with only digits."
   ]
  },
  {
   "cell_type": "code",
   "execution_count": 8,
   "metadata": {},
   "outputs": [],
   "source": [
    "import re\n",
    "data['Post nr.(kun tal)'] = data['Post nr.'].apply(lambda nr: re.findall(r'\\d\\d\\d\\d',nr)[0])"
   ]
  },
  {
   "cell_type": "code",
   "execution_count": 9,
   "metadata": {},
   "outputs": [
    {
     "data": {
      "text/plain": [
       "(Post nr.(kun tal)\n",
       " 5000    2729\n",
       " 5250    1681\n",
       " 5270    1265\n",
       " 5210    1110\n",
       " 5260    1021\n",
       " 5230     916\n",
       " 5220     677\n",
       " 5240     483\n",
       " 5200     457\n",
       " 5320     288\n",
       " 5491      92\n",
       " 5330       4\n",
       " Name: count, dtype: int64,\n",
       "                          Post nr.  count\n",
       " 25         Anderup, 5270 Odense N     99\n",
       " 26        Ejlstrup, 5200 Odense V     88\n",
       " 27    Villestofte, 5210 Odense NV     83\n",
       " 28      Tornbjerg, 5220 Odense SØ     79\n",
       " 29         Paarup, 5210 Odense NV     73\n",
       " ..                            ...    ...\n",
       " 82    Ejlstrup, 5491 Blommenslyst      2\n",
       " 83    Hesbjerg, 5491 Blommenslyst      2\n",
       " 84           Tarup, 5000 Odense C      2\n",
       " 85  L Hesbjerg, 5491 Blommenslyst      1\n",
       " 86          Højby, 5220 Odense SØ      1\n",
       " \n",
       " [62 rows x 2 columns])"
      ]
     },
     "execution_count": 9,
     "metadata": {},
     "output_type": "execute_result"
    }
   ],
   "source": [
    "ZIP_code_counts = data['Post nr.'].value_counts().reset_index()\n",
    "data['Post nr.(kun tal)'].value_counts(), ZIP_code_counts[ZIP_code_counts['count']<100]"
   ]
  },
  {
   "cell_type": "markdown",
   "metadata": {},
   "source": [
    "Some import information is revealed here. Only a few houses can be found for the ZIP code 5491 and 5330. Instead of dividing these even more by their locations I will only work with their numeric values."
   ]
  },
  {
   "cell_type": "markdown",
   "metadata": {},
   "source": [
    "## Exploration\n",
    "Here I explore the connection between the different explanatory variables and the price."
   ]
  },
  {
   "cell_type": "markdown",
   "metadata": {},
   "source": [
    "Something else I want to do is look at the impact of different transaction types impact on the price."
   ]
  },
  {
   "cell_type": "code",
   "execution_count": 10,
   "metadata": {},
   "outputs": [
    {
     "data": {
      "text/plain": [
       "Handel\n",
       "Fri handel       9657\n",
       "Familiehandel    1042\n",
       "Auktion            24\n",
       "Name: count, dtype: int64"
      ]
     },
     "execution_count": 10,
     "metadata": {},
     "output_type": "execute_result"
    },
    {
     "data": {
      "image/png": "[encoded data removed]",
      "text/plain": [
       "<Figure size 640x480 with 1 Axes>"
      ]
     },
     "metadata": {},
     "output_type": "display_data"
    }
   ],
   "source": [
    "import seaborn as sns\n",
    "sns.barplot(data=data, x='Handel', y='Pris')\n",
    "data['Handel'].value_counts()"
   ]
  },
  {
   "cell_type": "markdown",
   "metadata": {},
   "source": [
    "We see clearly the distinction between the different types and we are really only interested in predicting houses that are traded under market terms. For auctions we have a low sample size, but even when accounting for the variance we are nowhere near free market prices. Perhaps the other types could be interesting for a different task, but not this one! I keep the free trade ones."
   ]
  },
  {
   "cell_type": "code",
   "execution_count": 11,
   "metadata": {},
   "outputs": [],
   "source": [
    "data = data[data['Handel'] == 'Fri handel']"
   ]
  },
  {
   "cell_type": "markdown",
   "metadata": {},
   "source": [
    "I want to look at the distribution of the prices in general."
   ]
  },
  {
   "cell_type": "code",
   "execution_count": 12,
   "metadata": {},
   "outputs": [
    {
     "data": {
      "text/plain": [
       "[Text(0.5, 0, 'Pris i 2023')]"
      ]
     },
     "execution_count": 12,
     "metadata": {},
     "output_type": "execute_result"
    },
    {
     "data": {
      "image/png": "[encoded data removed]",
      "text/plain": [
       "<Figure size 640x480 with 5 Axes>"
      ]
     },
     "metadata": {},
     "output_type": "display_data"
    }
   ],
   "source": [
    "import matplotlib.pyplot as plt\n",
    "fig, ax = plt.subplots(5,1)\n",
    "sns.histplot(data=data[data['Pris'] <= 10*10**6],x='Pris', ax=ax[0])\n",
    "sns.histplot(data=data[(data['Pris'] <= 10*10**6) & (data['År'] == 2021)],x='Pris', ax=ax[1])\n",
    "sns.histplot(data=data[(data['Pris'] <= 10*10**6) & (data['År'] == 2022)],x='Pris', ax=ax[2])\n",
    "sns.histplot(data=data[(data['Pris'] <= 10*10**6) & (data['År'] == 2023)],x='Pris', ax=ax[3])\n",
    "sns.histplot(data=data[data['Normaliseret Pris (2025)'] <= 10*10**6],x='Normaliseret Pris (2025)', ax=ax[4])\n",
    "ax[1].set(xlabel='Pris i 2021')\n",
    "ax[2].set(xlabel='Pris i 2022')\n",
    "ax[3].set(xlabel='Pris i 2023')"
   ]
  },
  {
   "cell_type": "markdown",
   "metadata": {},
   "source": [
    "The points of these plots were to see if there would be more of a resemblance for each year to the normalized prices than to all the prices unadjusted. What could be attempted is something like a Kolmogorov-Smirnov test, to see if the adjusted data lines up better with the yearly prices better than the unadjusted prices pooled together."
   ]
  },
  {
   "cell_type": "code",
   "execution_count": 13,
   "metadata": {},
   "outputs": [
    {
     "data": {
      "text/html": [
       "<div>\n",
       "<style scoped>\n",
       "    .dataframe tbody tr th:only-of-type {\n",
       "        vertical-align: middle;\n",
       "    }\n",
       "\n",
       "    .dataframe tbody tr th {\n",
       "        vertical-align: top;\n",
       "    }\n",
       "\n",
       "    .dataframe thead th {\n",
       "        text-align: right;\n",
       "    }\n",
       "</style>\n",
       "<table border=\"1\" class=\"dataframe\">\n",
       "  <thead>\n",
       "    <tr style=\"text-align: right;\">\n",
       "      <th></th>\n",
       "      <th>Adresse</th>\n",
       "      <th>Post nr.</th>\n",
       "      <th>Pris</th>\n",
       "      <th>År</th>\n",
       "      <th>Størrelse (m2)</th>\n",
       "      <th>Værelser</th>\n",
       "      <th>Toiletter</th>\n",
       "      <th>Handel</th>\n",
       "      <th>Pris i mio. kr.</th>\n",
       "      <th>Normaliseret Pris (2025)</th>\n",
       "      <th>Normaliseret Pris i mio. kr. (2025)</th>\n",
       "      <th>Post nr.(kun tal)</th>\n",
       "    </tr>\n",
       "  </thead>\n",
       "  <tbody>\n",
       "    <tr>\n",
       "      <th>3336</th>\n",
       "      <td>Damhavevej 41</td>\n",
       "      <td>Stenløse, 5260 Odense S</td>\n",
       "      <td>37268.0</td>\n",
       "      <td>2024</td>\n",
       "      <td>215</td>\n",
       "      <td>6</td>\n",
       "      <td>2</td>\n",
       "      <td>Fri handel</td>\n",
       "      <td>0.037268</td>\n",
       "      <td>37268.000000</td>\n",
       "      <td>0.037268</td>\n",
       "      <td>5260</td>\n",
       "    </tr>\n",
       "    <tr>\n",
       "      <th>3792</th>\n",
       "      <td>Tyrsbjergvej 59</td>\n",
       "      <td>Villestofte, 5210 Odense NV</td>\n",
       "      <td>60000.0</td>\n",
       "      <td>2023</td>\n",
       "      <td>171</td>\n",
       "      <td>7</td>\n",
       "      <td>2</td>\n",
       "      <td>Fri handel</td>\n",
       "      <td>0.060000</td>\n",
       "      <td>59997.226460</td>\n",
       "      <td>0.059997</td>\n",
       "      <td>5210</td>\n",
       "    </tr>\n",
       "    <tr>\n",
       "      <th>3901</th>\n",
       "      <td>Bindekildevej 19</td>\n",
       "      <td>Bellinge, 5250 Odense SV</td>\n",
       "      <td>60750.0</td>\n",
       "      <td>2023</td>\n",
       "      <td>167</td>\n",
       "      <td>4</td>\n",
       "      <td>1</td>\n",
       "      <td>Fri handel</td>\n",
       "      <td>0.060750</td>\n",
       "      <td>60747.191790</td>\n",
       "      <td>0.060747</td>\n",
       "      <td>5250</td>\n",
       "    </tr>\n",
       "    <tr>\n",
       "      <th>3908</th>\n",
       "      <td>Assensvej 205</td>\n",
       "      <td>Bellinge, 5250 Odense SV</td>\n",
       "      <td>60750.0</td>\n",
       "      <td>2023</td>\n",
       "      <td>349</td>\n",
       "      <td>8</td>\n",
       "      <td>3</td>\n",
       "      <td>Fri handel</td>\n",
       "      <td>0.060750</td>\n",
       "      <td>60747.191790</td>\n",
       "      <td>0.060747</td>\n",
       "      <td>5250</td>\n",
       "    </tr>\n",
       "    <tr>\n",
       "      <th>4138</th>\n",
       "      <td>Ravnebjerggyden 31</td>\n",
       "      <td>Lille Ubberud, 5491 Blommenslyst</td>\n",
       "      <td>60000.0</td>\n",
       "      <td>2023</td>\n",
       "      <td>235</td>\n",
       "      <td>7</td>\n",
       "      <td>2</td>\n",
       "      <td>Fri handel</td>\n",
       "      <td>0.060000</td>\n",
       "      <td>59997.226460</td>\n",
       "      <td>0.059997</td>\n",
       "      <td>5491</td>\n",
       "    </tr>\n",
       "    <tr>\n",
       "      <th>4263</th>\n",
       "      <td>Højbyvej 2</td>\n",
       "      <td>Højby, 5260 Odense S</td>\n",
       "      <td>57687.0</td>\n",
       "      <td>2023</td>\n",
       "      <td>178</td>\n",
       "      <td>4</td>\n",
       "      <td>1</td>\n",
       "      <td>Fri handel</td>\n",
       "      <td>0.057687</td>\n",
       "      <td>57684.333380</td>\n",
       "      <td>0.057684</td>\n",
       "      <td>5260</td>\n",
       "    </tr>\n",
       "    <tr>\n",
       "      <th>5379</th>\n",
       "      <td>Hedelundvej 10</td>\n",
       "      <td>Stige, 5270 Odense N</td>\n",
       "      <td>40891.0</td>\n",
       "      <td>2023</td>\n",
       "      <td>209</td>\n",
       "      <td>4</td>\n",
       "      <td>1</td>\n",
       "      <td>Fri handel</td>\n",
       "      <td>0.040891</td>\n",
       "      <td>40889.109786</td>\n",
       "      <td>0.040889</td>\n",
       "      <td>5270</td>\n",
       "    </tr>\n",
       "    <tr>\n",
       "      <th>6056</th>\n",
       "      <td>Skovmålvej 26</td>\n",
       "      <td>Aasum, 5320 Agedrup</td>\n",
       "      <td>80000.0</td>\n",
       "      <td>2022</td>\n",
       "      <td>324</td>\n",
       "      <td>8</td>\n",
       "      <td>2</td>\n",
       "      <td>Fri handel</td>\n",
       "      <td>0.080000</td>\n",
       "      <td>70236.616746</td>\n",
       "      <td>0.070237</td>\n",
       "      <td>5320</td>\n",
       "    </tr>\n",
       "    <tr>\n",
       "      <th>6272</th>\n",
       "      <td>Nr. Lyndelse Vej 17A</td>\n",
       "      <td>Højby, 5260 Odense S</td>\n",
       "      <td>50000.0</td>\n",
       "      <td>2022</td>\n",
       "      <td>322</td>\n",
       "      <td>8</td>\n",
       "      <td>3</td>\n",
       "      <td>Fri handel</td>\n",
       "      <td>0.050000</td>\n",
       "      <td>43897.885466</td>\n",
       "      <td>0.043898</td>\n",
       "      <td>5260</td>\n",
       "    </tr>\n",
       "    <tr>\n",
       "      <th>6278</th>\n",
       "      <td>Nr. Lyndelse Vej 17B</td>\n",
       "      <td>Højby, 5260 Odense S</td>\n",
       "      <td>50000.0</td>\n",
       "      <td>2022</td>\n",
       "      <td>120</td>\n",
       "      <td>2</td>\n",
       "      <td>1</td>\n",
       "      <td>Fri handel</td>\n",
       "      <td>0.050000</td>\n",
       "      <td>43897.885466</td>\n",
       "      <td>0.043898</td>\n",
       "      <td>5260</td>\n",
       "    </tr>\n",
       "    <tr>\n",
       "      <th>7467</th>\n",
       "      <td>Mosegyden 31B</td>\n",
       "      <td>Brændekilde, 5250 Odense SV</td>\n",
       "      <td>25000.0</td>\n",
       "      <td>2022</td>\n",
       "      <td>91</td>\n",
       "      <td>5</td>\n",
       "      <td>1</td>\n",
       "      <td>Fri handel</td>\n",
       "      <td>0.025000</td>\n",
       "      <td>21948.942733</td>\n",
       "      <td>0.021949</td>\n",
       "      <td>5250</td>\n",
       "    </tr>\n",
       "    <tr>\n",
       "      <th>8440</th>\n",
       "      <td>Skippervænget 8</td>\n",
       "      <td>5000 Odense C</td>\n",
       "      <td>11050.0</td>\n",
       "      <td>2021</td>\n",
       "      <td>128</td>\n",
       "      <td>4</td>\n",
       "      <td>2</td>\n",
       "      <td>Fri handel</td>\n",
       "      <td>0.011050</td>\n",
       "      <td>10028.259775</td>\n",
       "      <td>0.010028</td>\n",
       "      <td>5000</td>\n",
       "    </tr>\n",
       "    <tr>\n",
       "      <th>9777</th>\n",
       "      <td>Holmstrupvej 22</td>\n",
       "      <td>Holmstrup, 5250 Odense SV</td>\n",
       "      <td>20000.0</td>\n",
       "      <td>2021</td>\n",
       "      <td>187</td>\n",
       "      <td>6</td>\n",
       "      <td>2</td>\n",
       "      <td>Fri handel</td>\n",
       "      <td>0.020000</td>\n",
       "      <td>18150.696426</td>\n",
       "      <td>0.018151</td>\n",
       "      <td>5250</td>\n",
       "    </tr>\n",
       "  </tbody>\n",
       "</table>\n",
       "</div>"
      ],
      "text/plain": [
       "                   Adresse                          Post nr.     Pris    År  \\\n",
       "3336         Damhavevej 41           Stenløse, 5260 Odense S  37268.0  2024   \n",
       "3792       Tyrsbjergvej 59       Villestofte, 5210 Odense NV  60000.0  2023   \n",
       "3901      Bindekildevej 19          Bellinge, 5250 Odense SV  60750.0  2023   \n",
       "3908         Assensvej 205          Bellinge, 5250 Odense SV  60750.0  2023   \n",
       "4138    Ravnebjerggyden 31  Lille Ubberud, 5491 Blommenslyst  60000.0  2023   \n",
       "4263            Højbyvej 2              Højby, 5260 Odense S  57687.0  2023   \n",
       "5379        Hedelundvej 10              Stige, 5270 Odense N  40891.0  2023   \n",
       "6056         Skovmålvej 26               Aasum, 5320 Agedrup  80000.0  2022   \n",
       "6272  Nr. Lyndelse Vej 17A              Højby, 5260 Odense S  50000.0  2022   \n",
       "6278  Nr. Lyndelse Vej 17B              Højby, 5260 Odense S  50000.0  2022   \n",
       "7467         Mosegyden 31B       Brændekilde, 5250 Odense SV  25000.0  2022   \n",
       "8440       Skippervænget 8                     5000 Odense C  11050.0  2021   \n",
       "9777       Holmstrupvej 22         Holmstrup, 5250 Odense SV  20000.0  2021   \n",
       "\n",
       "      Størrelse (m2)  Værelser  Toiletter      Handel  Pris i mio. kr.  \\\n",
       "3336             215         6          2  Fri handel         0.037268   \n",
       "3792             171         7          2  Fri handel         0.060000   \n",
       "3901             167         4          1  Fri handel         0.060750   \n",
       "3908             349         8          3  Fri handel         0.060750   \n",
       "4138             235         7          2  Fri handel         0.060000   \n",
       "4263             178         4          1  Fri handel         0.057687   \n",
       "5379             209         4          1  Fri handel         0.040891   \n",
       "6056             324         8          2  Fri handel         0.080000   \n",
       "6272             322         8          3  Fri handel         0.050000   \n",
       "6278             120         2          1  Fri handel         0.050000   \n",
       "7467              91         5          1  Fri handel         0.025000   \n",
       "8440             128         4          2  Fri handel         0.011050   \n",
       "9777             187         6          2  Fri handel         0.020000   \n",
       "\n",
       "      Normaliseret Pris (2025)  Normaliseret Pris i mio. kr. (2025)  \\\n",
       "3336              37268.000000                             0.037268   \n",
       "3792              59997.226460                             0.059997   \n",
       "3901              60747.191790                             0.060747   \n",
       "3908              60747.191790                             0.060747   \n",
       "4138              59997.226460                             0.059997   \n",
       "4263              57684.333380                             0.057684   \n",
       "5379              40889.109786                             0.040889   \n",
       "6056              70236.616746                             0.070237   \n",
       "6272              43897.885466                             0.043898   \n",
       "6278              43897.885466                             0.043898   \n",
       "7467              21948.942733                             0.021949   \n",
       "8440              10028.259775                             0.010028   \n",
       "9777              18150.696426                             0.018151   \n",
       "\n",
       "     Post nr.(kun tal)  \n",
       "3336              5260  \n",
       "3792              5210  \n",
       "3901              5250  \n",
       "3908              5250  \n",
       "4138              5491  \n",
       "4263              5260  \n",
       "5379              5270  \n",
       "6056              5320  \n",
       "6272              5260  \n",
       "6278              5260  \n",
       "7467              5250  \n",
       "8440              5000  \n",
       "9777              5250  "
      ]
     },
     "execution_count": 13,
     "metadata": {},
     "output_type": "execute_result"
    }
   ],
   "source": [
    "data[data['Pris']<100000]"
   ]
  },
  {
   "cell_type": "markdown",
   "metadata": {},
   "source": [
    "Next I want to look at each explanatory variable individually to see how it impacts the price."
   ]
  },
  {
   "cell_type": "code",
   "execution_count": 14,
   "metadata": {},
   "outputs": [
    {
     "data": {
      "text/plain": [
       "<Axes: xlabel='Størrelse (m2)', ylabel='Pris'>"
      ]
     },
     "execution_count": 14,
     "metadata": {},
     "output_type": "execute_result"
    },
    {
     "data": {
      "image/png": "[encoded data removed]",
      "text/plain": [
       "<Figure size 640x480 with 1 Axes>"
      ]
     },
     "metadata": {},
     "output_type": "display_data"
    }
   ],
   "source": [
    "sns.scatterplot(data=data[data['Pris']<10*10**6], x='Størrelse (m2)', y='Pris') #I filter out some of the extreme prices for visualization purposes."
   ]
  },
  {
   "cell_type": "markdown",
   "metadata": {},
   "source": [
    "We see some strange cases popping up already. A 500 (m2) house selling for almost nothing. Let us check that out."
   ]
  },
  {
   "cell_type": "code",
   "execution_count": 15,
   "metadata": {},
   "outputs": [
    {
     "data": {
      "text/html": [
       "<div>\n",
       "<style scoped>\n",
       "    .dataframe tbody tr th:only-of-type {\n",
       "        vertical-align: middle;\n",
       "    }\n",
       "\n",
       "    .dataframe tbody tr th {\n",
       "        vertical-align: top;\n",
       "    }\n",
       "\n",
       "    .dataframe thead th {\n",
       "        text-align: right;\n",
       "    }\n",
       "</style>\n",
       "<table border=\"1\" class=\"dataframe\">\n",
       "  <thead>\n",
       "    <tr style=\"text-align: right;\">\n",
       "      <th></th>\n",
       "      <th>Adresse</th>\n",
       "      <th>Post nr.</th>\n",
       "      <th>Pris</th>\n",
       "      <th>År</th>\n",
       "      <th>Størrelse (m2)</th>\n",
       "      <th>Værelser</th>\n",
       "      <th>Toiletter</th>\n",
       "      <th>Handel</th>\n",
       "      <th>Pris i mio. kr.</th>\n",
       "      <th>Normaliseret Pris (2025)</th>\n",
       "      <th>Normaliseret Pris i mio. kr. (2025)</th>\n",
       "      <th>Post nr.(kun tal)</th>\n",
       "    </tr>\n",
       "  </thead>\n",
       "  <tbody>\n",
       "    <tr>\n",
       "      <th>1262</th>\n",
       "      <td>Vestermarksvej 50</td>\n",
       "      <td>Fangel, 5260 Odense S</td>\n",
       "      <td>413954.0</td>\n",
       "      <td>2024</td>\n",
       "      <td>524</td>\n",
       "      <td>8</td>\n",
       "      <td>3</td>\n",
       "      <td>Fri handel</td>\n",
       "      <td>0.413954</td>\n",
       "      <td>413954.0</td>\n",
       "      <td>0.413954</td>\n",
       "      <td>5260</td>\n",
       "    </tr>\n",
       "  </tbody>\n",
       "</table>\n",
       "</div>"
      ],
      "text/plain": [
       "                Adresse               Post nr.      Pris    År  \\\n",
       "1262  Vestermarksvej 50  Fangel, 5260 Odense S  413954.0  2024   \n",
       "\n",
       "      Størrelse (m2)  Værelser  Toiletter      Handel  Pris i mio. kr.  \\\n",
       "1262             524         8          3  Fri handel         0.413954   \n",
       "\n",
       "      Normaliseret Pris (2025)  Normaliseret Pris i mio. kr. (2025)  \\\n",
       "1262                  413954.0                             0.413954   \n",
       "\n",
       "     Post nr.(kun tal)  \n",
       "1262              5260  "
      ]
     },
     "execution_count": 15,
     "metadata": {},
     "output_type": "execute_result"
    }
   ],
   "source": [
    "biggest_house = data[data['Størrelse (m2)']>500]\n",
    "biggest_house"
   ]
  },
  {
   "cell_type": "markdown",
   "metadata": {},
   "source": [
    "Again, the scraping has been performed correctly, but we have an anamoly in terms of price. We see that this is a 'fri handel' which means the purchase happened under regular conditions. An explaining factor could have been low bids at an auction or selling at a discount to family - (link to the house:https://www.boligsiden.dk/adresse/vestermarksvej-50-5260-odense-s-04619297__50_______)\n",
    "\n",
    "What else can be said about the plot, is that there is some positive correlation, resulting in a cone like shape. But we make calculations that to make sure."
   ]
  },
  {
   "cell_type": "code",
   "execution_count": 16,
   "metadata": {},
   "outputs": [
    {
     "data": {
      "text/plain": [
       "SignificanceResult(statistic=np.float64(0.47694171793793544), pvalue=np.float64(0.0))"
      ]
     },
     "execution_count": 16,
     "metadata": {},
     "output_type": "execute_result"
    }
   ],
   "source": [
    "from scipy.stats import spearmanr\n",
    "spearman_corr = spearmanr(data['Størrelse (m2)'],data['Pris'])\n",
    "spearman_corr"
   ]
  },
  {
   "cell_type": "markdown",
   "metadata": {},
   "source": [
    "There is definite positive correlation between the two with the p-value being 0. So it is fair to assume that price and size is positively correlated(duh). What I could do now is check for bathrooms and toilets, but most likely these two variables will be positively correlated with the size and so it won't make much sense."
   ]
  },
  {
   "cell_type": "code",
   "execution_count": 17,
   "metadata": {},
   "outputs": [
    {
     "data": {
      "text/html": [
       "<div>\n",
       "<style scoped>\n",
       "    .dataframe tbody tr th:only-of-type {\n",
       "        vertical-align: middle;\n",
       "    }\n",
       "\n",
       "    .dataframe tbody tr th {\n",
       "        vertical-align: top;\n",
       "    }\n",
       "\n",
       "    .dataframe thead th {\n",
       "        text-align: right;\n",
       "    }\n",
       "</style>\n",
       "<table border=\"1\" class=\"dataframe\">\n",
       "  <thead>\n",
       "    <tr style=\"text-align: right;\">\n",
       "      <th></th>\n",
       "      <th>Størrelse (m2)</th>\n",
       "      <th>Toiletter</th>\n",
       "      <th>Værelser</th>\n",
       "    </tr>\n",
       "  </thead>\n",
       "  <tbody>\n",
       "    <tr>\n",
       "      <th>Størrelse (m2)</th>\n",
       "      <td>1.000000</td>\n",
       "      <td>0.686127</td>\n",
       "      <td>0.814479</td>\n",
       "    </tr>\n",
       "    <tr>\n",
       "      <th>Toiletter</th>\n",
       "      <td>0.686127</td>\n",
       "      <td>1.000000</td>\n",
       "      <td>0.598557</td>\n",
       "    </tr>\n",
       "    <tr>\n",
       "      <th>Værelser</th>\n",
       "      <td>0.814479</td>\n",
       "      <td>0.598557</td>\n",
       "      <td>1.000000</td>\n",
       "    </tr>\n",
       "  </tbody>\n",
       "</table>\n",
       "</div>"
      ],
      "text/plain": [
       "                Størrelse (m2)  Toiletter  Værelser\n",
       "Størrelse (m2)        1.000000   0.686127  0.814479\n",
       "Toiletter             0.686127   1.000000  0.598557\n",
       "Værelser              0.814479   0.598557  1.000000"
      ]
     },
     "execution_count": 17,
     "metadata": {},
     "output_type": "execute_result"
    }
   ],
   "source": [
    "data[['Størrelse (m2)', 'Toiletter', 'Værelser']].corr('spearman')"
   ]
  },
  {
   "cell_type": "markdown",
   "metadata": {},
   "source": [
    "We see exactly what was conjectured, that the number of rooms or toilets is positively correlated with the size."
   ]
  },
  {
   "cell_type": "markdown",
   "metadata": {},
   "source": [
    "From the code below we see that the number of unique ZIP codes is 87. We want to get a visual idea of what the impact of location is on the price and hopefully visually."
   ]
  },
  {
   "cell_type": "code",
   "execution_count": 18,
   "metadata": {},
   "outputs": [
    {
     "data": {
      "text/plain": [
       "83"
      ]
     },
     "execution_count": 18,
     "metadata": {},
     "output_type": "execute_result"
    }
   ],
   "source": [
    "ZIP_codes = data['Post nr.'].unique()\n",
    "len(ZIP_codes)"
   ]
  },
  {
   "cell_type": "markdown",
   "metadata": {},
   "source": [
    "Below I want to look at the distribution of prices for each ZIP code, but only the numeric part of it."
   ]
  },
  {
   "cell_type": "code",
   "execution_count": 19,
   "metadata": {},
   "outputs": [
    {
     "data": {
      "text/plain": [
       "<Axes: xlabel='Post nr.(kun tal)', ylabel='Normaliseret Pris i mio. kr. (2025)'>"
      ]
     },
     "execution_count": 19,
     "metadata": {},
     "output_type": "execute_result"
    },
    {
     "data": {
      "image/png": "[encoded data removed]",
      "text/plain": [
       "<Figure size 640x480 with 1 Axes>"
      ]
     },
     "metadata": {},
     "output_type": "display_data"
    }
   ],
   "source": [
    "sns.boxplot(data=data[data['Normaliseret Pris i mio. kr. (2025)']<6], x='Post nr.(kun tal)', y='Normaliseret Pris i mio. kr. (2025)')"
   ]
  },
  {
   "cell_type": "markdown",
   "metadata": {},
   "source": [
    "As you see in the code I filtered out houses sold for more than 6 million danish crowns. When the boxplot quantiles end and the points appears as dots, that means in the framework of considering the 4 quantiles that they are outliers. What we could do is remove all of the houses that fall out of category, but that might be overreaching. Neighborhoods in Odense will consist of a lot of mixed value houses and properties and not be completely homogenuous. What is of greater concern, is the properties that are huge and sells for peanuts. Under free trade rules it seems suspicious. I think it is fair to consider these as anomalies. All properties under 500k should be investigated."
   ]
  },
  {
   "cell_type": "code",
   "execution_count": 20,
   "metadata": {},
   "outputs": [
    {
     "data": {
      "text/html": [
       "<div>\n",
       "<style scoped>\n",
       "    .dataframe tbody tr th:only-of-type {\n",
       "        vertical-align: middle;\n",
       "    }\n",
       "\n",
       "    .dataframe tbody tr th {\n",
       "        vertical-align: top;\n",
       "    }\n",
       "\n",
       "    .dataframe thead th {\n",
       "        text-align: right;\n",
       "    }\n",
       "</style>\n",
       "<table border=\"1\" class=\"dataframe\">\n",
       "  <thead>\n",
       "    <tr style=\"text-align: right;\">\n",
       "      <th></th>\n",
       "      <th>Adresse</th>\n",
       "      <th>Post nr.</th>\n",
       "      <th>Pris</th>\n",
       "      <th>År</th>\n",
       "      <th>Størrelse (m2)</th>\n",
       "      <th>Værelser</th>\n",
       "      <th>Toiletter</th>\n",
       "      <th>Handel</th>\n",
       "      <th>Pris i mio. kr.</th>\n",
       "      <th>Normaliseret Pris (2025)</th>\n",
       "      <th>Normaliseret Pris i mio. kr. (2025)</th>\n",
       "      <th>Post nr.(kun tal)</th>\n",
       "    </tr>\n",
       "  </thead>\n",
       "  <tbody>\n",
       "    <tr>\n",
       "      <th>1094</th>\n",
       "      <td>Møllegyden 7</td>\n",
       "      <td>Brændekilde, 5250 Odense SV</td>\n",
       "      <td>300000.0</td>\n",
       "      <td>2025</td>\n",
       "      <td>70</td>\n",
       "      <td>3</td>\n",
       "      <td>1</td>\n",
       "      <td>Fri handel</td>\n",
       "      <td>0.300000</td>\n",
       "      <td>300000.000000</td>\n",
       "      <td>0.300000</td>\n",
       "      <td>5250</td>\n",
       "    </tr>\n",
       "    <tr>\n",
       "      <th>1102</th>\n",
       "      <td>Fuglebakken 38M</td>\n",
       "      <td>Snestrup, 5210 Odense NV</td>\n",
       "      <td>450000.0</td>\n",
       "      <td>2025</td>\n",
       "      <td>43</td>\n",
       "      <td>2</td>\n",
       "      <td>1</td>\n",
       "      <td>Fri handel</td>\n",
       "      <td>0.450000</td>\n",
       "      <td>450000.000000</td>\n",
       "      <td>0.450000</td>\n",
       "      <td>5210</td>\n",
       "    </tr>\n",
       "    <tr>\n",
       "      <th>1110</th>\n",
       "      <td>Fuglsang 10D</td>\n",
       "      <td>Næsby, 5270 Odense N</td>\n",
       "      <td>315000.0</td>\n",
       "      <td>2025</td>\n",
       "      <td>35</td>\n",
       "      <td>2</td>\n",
       "      <td>1</td>\n",
       "      <td>Fri handel</td>\n",
       "      <td>0.315000</td>\n",
       "      <td>315000.000000</td>\n",
       "      <td>0.315000</td>\n",
       "      <td>5270</td>\n",
       "    </tr>\n",
       "    <tr>\n",
       "      <th>1111</th>\n",
       "      <td>Fuglsang 10A</td>\n",
       "      <td>Næsby, 5270 Odense N</td>\n",
       "      <td>315000.0</td>\n",
       "      <td>2025</td>\n",
       "      <td>37</td>\n",
       "      <td>2</td>\n",
       "      <td>1</td>\n",
       "      <td>Fri handel</td>\n",
       "      <td>0.315000</td>\n",
       "      <td>315000.000000</td>\n",
       "      <td>0.315000</td>\n",
       "      <td>5270</td>\n",
       "    </tr>\n",
       "    <tr>\n",
       "      <th>1127</th>\n",
       "      <td>Fangel Bygade 34</td>\n",
       "      <td>Fangel, 5260 Odense S</td>\n",
       "      <td>215819.0</td>\n",
       "      <td>2025</td>\n",
       "      <td>108</td>\n",
       "      <td>3</td>\n",
       "      <td>2</td>\n",
       "      <td>Fri handel</td>\n",
       "      <td>0.215819</td>\n",
       "      <td>215819.000000</td>\n",
       "      <td>0.215819</td>\n",
       "      <td>5260</td>\n",
       "    </tr>\n",
       "    <tr>\n",
       "      <th>...</th>\n",
       "      <td>...</td>\n",
       "      <td>...</td>\n",
       "      <td>...</td>\n",
       "      <td>...</td>\n",
       "      <td>...</td>\n",
       "      <td>...</td>\n",
       "      <td>...</td>\n",
       "      <td>...</td>\n",
       "      <td>...</td>\n",
       "      <td>...</td>\n",
       "      <td>...</td>\n",
       "      <td>...</td>\n",
       "    </tr>\n",
       "    <tr>\n",
       "      <th>10082</th>\n",
       "      <td>Spurvelunden 12</td>\n",
       "      <td>Næsbyhoved-Broby, 5270 Odense N</td>\n",
       "      <td>500000.0</td>\n",
       "      <td>2021</td>\n",
       "      <td>151</td>\n",
       "      <td>5</td>\n",
       "      <td>2</td>\n",
       "      <td>Fri handel</td>\n",
       "      <td>0.500000</td>\n",
       "      <td>453767.410639</td>\n",
       "      <td>0.453767</td>\n",
       "      <td>5270</td>\n",
       "    </tr>\n",
       "    <tr>\n",
       "      <th>10176</th>\n",
       "      <td>Hegningvej 7</td>\n",
       "      <td>Lindved, 5260 Odense S</td>\n",
       "      <td>505000.0</td>\n",
       "      <td>2021</td>\n",
       "      <td>53</td>\n",
       "      <td>2</td>\n",
       "      <td>1</td>\n",
       "      <td>Fri handel</td>\n",
       "      <td>0.505000</td>\n",
       "      <td>458305.084746</td>\n",
       "      <td>0.458305</td>\n",
       "      <td>5260</td>\n",
       "    </tr>\n",
       "    <tr>\n",
       "      <th>10179</th>\n",
       "      <td>Fangelvej 31</td>\n",
       "      <td>Fangel, 5260 Odense S</td>\n",
       "      <td>467080.0</td>\n",
       "      <td>2021</td>\n",
       "      <td>251</td>\n",
       "      <td>8</td>\n",
       "      <td>2</td>\n",
       "      <td>Fri handel</td>\n",
       "      <td>0.467080</td>\n",
       "      <td>423891.364323</td>\n",
       "      <td>0.423891</td>\n",
       "      <td>5260</td>\n",
       "    </tr>\n",
       "    <tr>\n",
       "      <th>10481</th>\n",
       "      <td>Espestok 54B</td>\n",
       "      <td>Gammel Korup, 5210 Odense NV</td>\n",
       "      <td>120000.0</td>\n",
       "      <td>2021</td>\n",
       "      <td>130</td>\n",
       "      <td>3</td>\n",
       "      <td>1</td>\n",
       "      <td>Fri handel</td>\n",
       "      <td>0.120000</td>\n",
       "      <td>108904.178553</td>\n",
       "      <td>0.108904</td>\n",
       "      <td>5210</td>\n",
       "    </tr>\n",
       "    <tr>\n",
       "      <th>10483</th>\n",
       "      <td>Espestok 54A</td>\n",
       "      <td>Gammel Korup, 5210 Odense NV</td>\n",
       "      <td>120000.0</td>\n",
       "      <td>2021</td>\n",
       "      <td>313</td>\n",
       "      <td>9</td>\n",
       "      <td>2</td>\n",
       "      <td>Fri handel</td>\n",
       "      <td>0.120000</td>\n",
       "      <td>108904.178553</td>\n",
       "      <td>0.108904</td>\n",
       "      <td>5210</td>\n",
       "    </tr>\n",
       "  </tbody>\n",
       "</table>\n",
       "<p>110 rows × 12 columns</p>\n",
       "</div>"
      ],
      "text/plain": [
       "                Adresse                         Post nr.      Pris    År  \\\n",
       "1094       Møllegyden 7      Brændekilde, 5250 Odense SV  300000.0  2025   \n",
       "1102    Fuglebakken 38M         Snestrup, 5210 Odense NV  450000.0  2025   \n",
       "1110       Fuglsang 10D             Næsby, 5270 Odense N  315000.0  2025   \n",
       "1111       Fuglsang 10A             Næsby, 5270 Odense N  315000.0  2025   \n",
       "1127   Fangel Bygade 34            Fangel, 5260 Odense S  215819.0  2025   \n",
       "...                 ...                              ...       ...   ...   \n",
       "10082   Spurvelunden 12  Næsbyhoved-Broby, 5270 Odense N  500000.0  2021   \n",
       "10176      Hegningvej 7           Lindved, 5260 Odense S  505000.0  2021   \n",
       "10179      Fangelvej 31            Fangel, 5260 Odense S  467080.0  2021   \n",
       "10481      Espestok 54B     Gammel Korup, 5210 Odense NV  120000.0  2021   \n",
       "10483      Espestok 54A     Gammel Korup, 5210 Odense NV  120000.0  2021   \n",
       "\n",
       "       Størrelse (m2)  Værelser  Toiletter      Handel  Pris i mio. kr.  \\\n",
       "1094               70         3          1  Fri handel         0.300000   \n",
       "1102               43         2          1  Fri handel         0.450000   \n",
       "1110               35         2          1  Fri handel         0.315000   \n",
       "1111               37         2          1  Fri handel         0.315000   \n",
       "1127              108         3          2  Fri handel         0.215819   \n",
       "...               ...       ...        ...         ...              ...   \n",
       "10082             151         5          2  Fri handel         0.500000   \n",
       "10176              53         2          1  Fri handel         0.505000   \n",
       "10179             251         8          2  Fri handel         0.467080   \n",
       "10481             130         3          1  Fri handel         0.120000   \n",
       "10483             313         9          2  Fri handel         0.120000   \n",
       "\n",
       "       Normaliseret Pris (2025)  Normaliseret Pris i mio. kr. (2025)  \\\n",
       "1094              300000.000000                             0.300000   \n",
       "1102              450000.000000                             0.450000   \n",
       "1110              315000.000000                             0.315000   \n",
       "1111              315000.000000                             0.315000   \n",
       "1127              215819.000000                             0.215819   \n",
       "...                         ...                                  ...   \n",
       "10082             453767.410639                             0.453767   \n",
       "10176             458305.084746                             0.458305   \n",
       "10179             423891.364323                             0.423891   \n",
       "10481             108904.178553                             0.108904   \n",
       "10483             108904.178553                             0.108904   \n",
       "\n",
       "      Post nr.(kun tal)  \n",
       "1094               5250  \n",
       "1102               5210  \n",
       "1110               5270  \n",
       "1111               5270  \n",
       "1127               5260  \n",
       "...                 ...  \n",
       "10082              5270  \n",
       "10176              5260  \n",
       "10179              5260  \n",
       "10481              5210  \n",
       "10483              5210  \n",
       "\n",
       "[110 rows x 12 columns]"
      ]
     },
     "execution_count": 20,
     "metadata": {},
     "output_type": "execute_result"
    }
   ],
   "source": [
    "data[data['Normaliseret Pris (2025)']<=0.5*10**6]"
   ]
  },
  {
   "cell_type": "markdown",
   "metadata": {},
   "source": [
    "Take for example Espestok 54A, bottom of the list. It sold for 120 thousand danish crowns in 2021, but for 6.3 million danish crowns in 2015. Something has obviously happened or the reporting is just plain wrong. According to Danish law it's okay to sell below public evaluation if there are no familial ties between the two parties. I am going to filter out houses which price deviates way too much from the price per m2. If a house is sold for less than a fourth of the price based on the square meters, it is an anomaly of have been very troubling to sell. Which is a fair reason for our project(could have used how long it was listed for, maybe in newer iterations), but selling for less than a fourth of what the square meter price is on average for the whole municipality is quite extreme, in my opinion."
   ]
  },
  {
   "cell_type": "code",
   "execution_count": 21,
   "metadata": {},
   "outputs": [],
   "source": [
    "m2_price = 18000\n",
    "data = data[data['Normaliseret Pris (2025)']>=data['Størrelse (m2)']*(m2_price/4)]"
   ]
  },
  {
   "cell_type": "markdown",
   "metadata": {},
   "source": [
    "Let us see if we have properties on the other side of the spectrum."
   ]
  },
  {
   "cell_type": "code",
   "execution_count": 22,
   "metadata": {},
   "outputs": [
    {
     "data": {
      "text/html": [
       "<div>\n",
       "<style scoped>\n",
       "    .dataframe tbody tr th:only-of-type {\n",
       "        vertical-align: middle;\n",
       "    }\n",
       "\n",
       "    .dataframe tbody tr th {\n",
       "        vertical-align: top;\n",
       "    }\n",
       "\n",
       "    .dataframe thead th {\n",
       "        text-align: right;\n",
       "    }\n",
       "</style>\n",
       "<table border=\"1\" class=\"dataframe\">\n",
       "  <thead>\n",
       "    <tr style=\"text-align: right;\">\n",
       "      <th></th>\n",
       "      <th>Adresse</th>\n",
       "      <th>Post nr.</th>\n",
       "      <th>Pris</th>\n",
       "      <th>År</th>\n",
       "      <th>Størrelse (m2)</th>\n",
       "      <th>Værelser</th>\n",
       "      <th>Toiletter</th>\n",
       "      <th>Handel</th>\n",
       "      <th>Pris i mio. kr.</th>\n",
       "      <th>Normaliseret Pris (2025)</th>\n",
       "      <th>Normaliseret Pris i mio. kr. (2025)</th>\n",
       "      <th>Post nr.(kun tal)</th>\n",
       "    </tr>\n",
       "  </thead>\n",
       "  <tbody>\n",
       "    <tr>\n",
       "      <th>1525</th>\n",
       "      <td>Over-Holluf-Toften 39</td>\n",
       "      <td>Over Holluf, 5220 Odense SØ</td>\n",
       "      <td>41000000.0</td>\n",
       "      <td>2024</td>\n",
       "      <td>146</td>\n",
       "      <td>7</td>\n",
       "      <td>2</td>\n",
       "      <td>Fri handel</td>\n",
       "      <td>41.000000</td>\n",
       "      <td>4.100000e+07</td>\n",
       "      <td>41.000000</td>\n",
       "      <td>5220</td>\n",
       "    </tr>\n",
       "    <tr>\n",
       "      <th>1526</th>\n",
       "      <td>Over-Holluf-Toften 81</td>\n",
       "      <td>Over Holluf, 5220 Odense SØ</td>\n",
       "      <td>41000000.0</td>\n",
       "      <td>2024</td>\n",
       "      <td>158</td>\n",
       "      <td>6</td>\n",
       "      <td>2</td>\n",
       "      <td>Fri handel</td>\n",
       "      <td>41.000000</td>\n",
       "      <td>4.100000e+07</td>\n",
       "      <td>41.000000</td>\n",
       "      <td>5220</td>\n",
       "    </tr>\n",
       "    <tr>\n",
       "      <th>1527</th>\n",
       "      <td>Over-Holluf-Toften 73</td>\n",
       "      <td>Over Holluf, 5220 Odense SØ</td>\n",
       "      <td>41000000.0</td>\n",
       "      <td>2024</td>\n",
       "      <td>158</td>\n",
       "      <td>6</td>\n",
       "      <td>2</td>\n",
       "      <td>Fri handel</td>\n",
       "      <td>41.000000</td>\n",
       "      <td>4.100000e+07</td>\n",
       "      <td>41.000000</td>\n",
       "      <td>5220</td>\n",
       "    </tr>\n",
       "    <tr>\n",
       "      <th>1528</th>\n",
       "      <td>Over-Holluf-Toften 71</td>\n",
       "      <td>Over Holluf, 5220 Odense SØ</td>\n",
       "      <td>41000000.0</td>\n",
       "      <td>2024</td>\n",
       "      <td>158</td>\n",
       "      <td>6</td>\n",
       "      <td>2</td>\n",
       "      <td>Fri handel</td>\n",
       "      <td>41.000000</td>\n",
       "      <td>4.100000e+07</td>\n",
       "      <td>41.000000</td>\n",
       "      <td>5220</td>\n",
       "    </tr>\n",
       "    <tr>\n",
       "      <th>1529</th>\n",
       "      <td>Over-Holluf-Toften 57</td>\n",
       "      <td>Over Holluf, 5220 Odense SØ</td>\n",
       "      <td>41000000.0</td>\n",
       "      <td>2024</td>\n",
       "      <td>158</td>\n",
       "      <td>6</td>\n",
       "      <td>2</td>\n",
       "      <td>Fri handel</td>\n",
       "      <td>41.000000</td>\n",
       "      <td>4.100000e+07</td>\n",
       "      <td>41.000000</td>\n",
       "      <td>5220</td>\n",
       "    </tr>\n",
       "    <tr>\n",
       "      <th>...</th>\n",
       "      <td>...</td>\n",
       "      <td>...</td>\n",
       "      <td>...</td>\n",
       "      <td>...</td>\n",
       "      <td>...</td>\n",
       "      <td>...</td>\n",
       "      <td>...</td>\n",
       "      <td>...</td>\n",
       "      <td>...</td>\n",
       "      <td>...</td>\n",
       "      <td>...</td>\n",
       "      <td>...</td>\n",
       "    </tr>\n",
       "    <tr>\n",
       "      <th>10364</th>\n",
       "      <td>Amaliehaven 148</td>\n",
       "      <td>Seden, 5240 Odense NØ</td>\n",
       "      <td>19097471.0</td>\n",
       "      <td>2021</td>\n",
       "      <td>87</td>\n",
       "      <td>3</td>\n",
       "      <td>1</td>\n",
       "      <td>Fri handel</td>\n",
       "      <td>19.097471</td>\n",
       "      <td>1.733162e+07</td>\n",
       "      <td>17.331620</td>\n",
       "      <td>5240</td>\n",
       "    </tr>\n",
       "    <tr>\n",
       "      <th>10365</th>\n",
       "      <td>Amaliehaven 176</td>\n",
       "      <td>Seden, 5240 Odense NØ</td>\n",
       "      <td>19097471.0</td>\n",
       "      <td>2021</td>\n",
       "      <td>87</td>\n",
       "      <td>3</td>\n",
       "      <td>1</td>\n",
       "      <td>Fri handel</td>\n",
       "      <td>19.097471</td>\n",
       "      <td>1.733162e+07</td>\n",
       "      <td>17.331620</td>\n",
       "      <td>5240</td>\n",
       "    </tr>\n",
       "    <tr>\n",
       "      <th>10377</th>\n",
       "      <td>Nyborgvej 1A, 1. th.</td>\n",
       "      <td>5000 Odense C</td>\n",
       "      <td>21250000.0</td>\n",
       "      <td>2021</td>\n",
       "      <td>47</td>\n",
       "      <td>2</td>\n",
       "      <td>1</td>\n",
       "      <td>Fri handel</td>\n",
       "      <td>21.250000</td>\n",
       "      <td>1.928511e+07</td>\n",
       "      <td>19.285115</td>\n",
       "      <td>5000</td>\n",
       "    </tr>\n",
       "    <tr>\n",
       "      <th>10430</th>\n",
       "      <td>Astrupvej 40A</td>\n",
       "      <td>5000 Odense C</td>\n",
       "      <td>24150000.0</td>\n",
       "      <td>2021</td>\n",
       "      <td>69</td>\n",
       "      <td>2</td>\n",
       "      <td>1</td>\n",
       "      <td>Fri handel</td>\n",
       "      <td>24.150000</td>\n",
       "      <td>2.191697e+07</td>\n",
       "      <td>21.916966</td>\n",
       "      <td>5000</td>\n",
       "    </tr>\n",
       "    <tr>\n",
       "      <th>10578</th>\n",
       "      <td>Munke Mose Allé 4, 2. 1.</td>\n",
       "      <td>5000 Odense C</td>\n",
       "      <td>70000000.0</td>\n",
       "      <td>2020</td>\n",
       "      <td>53</td>\n",
       "      <td>1</td>\n",
       "      <td>1</td>\n",
       "      <td>Fri handel</td>\n",
       "      <td>70.000000</td>\n",
       "      <td>6.592251e+07</td>\n",
       "      <td>65.922508</td>\n",
       "      <td>5000</td>\n",
       "    </tr>\n",
       "  </tbody>\n",
       "</table>\n",
       "<p>163 rows × 12 columns</p>\n",
       "</div>"
      ],
      "text/plain": [
       "                        Adresse                     Post nr.        Pris  \\\n",
       "1525      Over-Holluf-Toften 39  Over Holluf, 5220 Odense SØ  41000000.0   \n",
       "1526      Over-Holluf-Toften 81  Over Holluf, 5220 Odense SØ  41000000.0   \n",
       "1527      Over-Holluf-Toften 73  Over Holluf, 5220 Odense SØ  41000000.0   \n",
       "1528      Over-Holluf-Toften 71  Over Holluf, 5220 Odense SØ  41000000.0   \n",
       "1529      Over-Holluf-Toften 57  Over Holluf, 5220 Odense SØ  41000000.0   \n",
       "...                         ...                          ...         ...   \n",
       "10364           Amaliehaven 148        Seden, 5240 Odense NØ  19097471.0   \n",
       "10365           Amaliehaven 176        Seden, 5240 Odense NØ  19097471.0   \n",
       "10377      Nyborgvej 1A, 1. th.                5000 Odense C  21250000.0   \n",
       "10430             Astrupvej 40A                5000 Odense C  24150000.0   \n",
       "10578  Munke Mose Allé 4, 2. 1.                5000 Odense C  70000000.0   \n",
       "\n",
       "         År  Størrelse (m2)  Værelser  Toiletter      Handel  Pris i mio. kr.  \\\n",
       "1525   2024             146         7          2  Fri handel        41.000000   \n",
       "1526   2024             158         6          2  Fri handel        41.000000   \n",
       "1527   2024             158         6          2  Fri handel        41.000000   \n",
       "1528   2024             158         6          2  Fri handel        41.000000   \n",
       "1529   2024             158         6          2  Fri handel        41.000000   \n",
       "...     ...             ...       ...        ...         ...              ...   \n",
       "10364  2021              87         3          1  Fri handel        19.097471   \n",
       "10365  2021              87         3          1  Fri handel        19.097471   \n",
       "10377  2021              47         2          1  Fri handel        21.250000   \n",
       "10430  2021              69         2          1  Fri handel        24.150000   \n",
       "10578  2020              53         1          1  Fri handel        70.000000   \n",
       "\n",
       "       Normaliseret Pris (2025)  Normaliseret Pris i mio. kr. (2025)  \\\n",
       "1525               4.100000e+07                            41.000000   \n",
       "1526               4.100000e+07                            41.000000   \n",
       "1527               4.100000e+07                            41.000000   \n",
       "1528               4.100000e+07                            41.000000   \n",
       "1529               4.100000e+07                            41.000000   \n",
       "...                         ...                                  ...   \n",
       "10364              1.733162e+07                            17.331620   \n",
       "10365              1.733162e+07                            17.331620   \n",
       "10377              1.928511e+07                            19.285115   \n",
       "10430              2.191697e+07                            21.916966   \n",
       "10578              6.592251e+07                            65.922508   \n",
       "\n",
       "      Post nr.(kun tal)  \n",
       "1525               5220  \n",
       "1526               5220  \n",
       "1527               5220  \n",
       "1528               5220  \n",
       "1529               5220  \n",
       "...                 ...  \n",
       "10364              5240  \n",
       "10365              5240  \n",
       "10377              5000  \n",
       "10430              5000  \n",
       "10578              5000  \n",
       "\n",
       "[163 rows x 12 columns]"
      ]
     },
     "execution_count": 22,
     "metadata": {},
     "output_type": "execute_result"
    }
   ],
   "source": [
    "data[data['Normaliseret Pris (2025)']>=data['Størrelse (m2)']*(m2_price*10)]"
   ]
  },
  {
   "cell_type": "markdown",
   "metadata": {},
   "source": [
    "There are quite a lot of properties going for more than 10 times the average square meter price, which is absurd. The top of the list are all sold for way less than 41 million danish crowns previously. So I filter these away as well. I am quite certain that there are more suspicious properties on this side of things, but we are going to leave it for now."
   ]
  },
  {
   "cell_type": "code",
   "execution_count": 23,
   "metadata": {},
   "outputs": [],
   "source": [
    "data = data[data['Normaliseret Pris (2025)']<data['Størrelse (m2)']*(m2_price*10)]"
   ]
  },
  {
   "cell_type": "markdown",
   "metadata": {},
   "source": [
    "The last thing I want to do is just quickly look at the importance of each feature in predicting and I do this by running the data through a decision tree. The decision tree can report back the information gained on each split."
   ]
  },
  {
   "cell_type": "code",
   "execution_count": 24,
   "metadata": {},
   "outputs": [],
   "source": [
    "from sklearn.tree import DecisionTreeRegressor\n",
    "feature_importance = DecisionTreeRegressor()"
   ]
  },
  {
   "cell_type": "markdown",
   "metadata": {},
   "source": [
    "We still need a reasonable way to encode the ZIP codes. There is no inherent ranking to the ZIP codes, but we can try to encode them based on average values. We can also do it randomly, but this arbitrary division would just be confusing for the model. Other alternatives could be making two new variables - one that encodes where it is located vertically on a map and one for the horizontal position. This way the splits could happen in a more reasonable manner with reading direction. \n",
    "For now I stick with ordering them in terms of their median(to avoid skewness) price. Hope this does not lead to too much overfitting"
   ]
  },
  {
   "cell_type": "code",
   "execution_count": 25,
   "metadata": {},
   "outputs": [],
   "source": [
    "ranked = data[['Normaliseret Pris (2025)','Post nr.']].groupby('Post nr.').median().sort_values('Normaliseret Pris (2025)').reset_index()\n",
    "encodings = {ZIP:index+1 for index, ZIP in enumerate(list(ranked['Post nr.']))}\n",
    "data['Post nr. (kodet)'] = data['Post nr.'].apply(lambda ZIP: encodings[ZIP])"
   ]
  },
  {
   "cell_type": "markdown",
   "metadata": {},
   "source": [
    "Now we have encoded the ZIP codes in a more meaningful way. This could lead to overfitting and will be considered for the last results. "
   ]
  },
  {
   "cell_type": "code",
   "execution_count": 26,
   "metadata": {},
   "outputs": [
    {
     "data": {
      "text/plain": [
       "array([0.32148521, 0.5268043 , 0.11938612, 0.03232437])"
      ]
     },
     "execution_count": 26,
     "metadata": {},
     "output_type": "execute_result"
    }
   ],
   "source": [
    "features, target = data[['Post nr. (kodet)', 'Størrelse (m2)', 'Værelser', 'Toiletter']], data['Normaliseret Pris (2025)']\n",
    "feature_importance.fit(features,target)\n",
    "feature_importance.feature_importances_"
   ]
  },
  {
   "cell_type": "markdown",
   "metadata": {},
   "source": [
    "Just to see if it skews the feature importance by encoding randomly."
   ]
  },
  {
   "cell_type": "code",
   "execution_count": 27,
   "metadata": {},
   "outputs": [],
   "source": [
    "random_encoding = {ZIP: i for i, ZIP in enumerate(data['Post nr.'].unique())}\n",
    "data['Post nr. (kodet - tilfældigt)'] = data['Post nr.'].apply(lambda ZIP: random_encoding[ZIP])"
   ]
  },
  {
   "cell_type": "markdown",
   "metadata": {},
   "source": [
    "And now checking."
   ]
  },
  {
   "cell_type": "code",
   "execution_count": 28,
   "metadata": {},
   "outputs": [
    {
     "data": {
      "text/plain": [
       "array([0.29772441, 0.54487891, 0.11724279, 0.04015389])"
      ]
     },
     "execution_count": 28,
     "metadata": {},
     "output_type": "execute_result"
    }
   ],
   "source": [
    "features, target = data[['Post nr. (kodet - tilfældigt)', 'Størrelse (m2)', 'Værelser', 'Toiletter']], data['Normaliseret Pris (2025)']\n",
    "feature_importance = DecisionTreeRegressor()\n",
    "feature_importance.fit(features,target)\n",
    "feature_importance.feature_importances_"
   ]
  },
  {
   "cell_type": "markdown",
   "metadata": {},
   "source": [
    "It did slightly drop when encoding them arbitrarily. It should be mentioned that the ZIP codes might still arrive in some order unbeknownst to me. But arbitrary to my knowledge. Perhaps we can answer the question of overfitting already. Encoding the ZIP codes with median price in mind came with a small information gain. This information gain is both useful and alright, I would argue. EXPLAIN LATER"
   ]
  },
  {
   "cell_type": "markdown",
   "metadata": {},
   "source": [
    "We see that the size of the property is the most important feature in both cases though."
   ]
  },
  {
   "cell_type": "code",
   "execution_count": 29,
   "metadata": {},
   "outputs": [
    {
     "data": {
      "text/html": [
       "<div>\n",
       "<style scoped>\n",
       "    .dataframe tbody tr th:only-of-type {\n",
       "        vertical-align: middle;\n",
       "    }\n",
       "\n",
       "    .dataframe tbody tr th {\n",
       "        vertical-align: top;\n",
       "    }\n",
       "\n",
       "    .dataframe thead th {\n",
       "        text-align: right;\n",
       "    }\n",
       "</style>\n",
       "<table border=\"1\" class=\"dataframe\">\n",
       "  <thead>\n",
       "    <tr style=\"text-align: right;\">\n",
       "      <th></th>\n",
       "      <th>Adresse</th>\n",
       "      <th>Post nr.</th>\n",
       "      <th>Pris</th>\n",
       "      <th>År</th>\n",
       "      <th>Størrelse (m2)</th>\n",
       "      <th>Værelser</th>\n",
       "      <th>Toiletter</th>\n",
       "      <th>Handel</th>\n",
       "      <th>Pris i mio. kr.</th>\n",
       "      <th>Normaliseret Pris (2025)</th>\n",
       "      <th>Normaliseret Pris i mio. kr. (2025)</th>\n",
       "      <th>Post nr.(kun tal)</th>\n",
       "      <th>Post nr. (kodet)</th>\n",
       "      <th>Post nr. (kodet - tilfældigt)</th>\n",
       "    </tr>\n",
       "  </thead>\n",
       "  <tbody>\n",
       "    <tr>\n",
       "      <th>1068</th>\n",
       "      <td>Klokkens Kvarter 26</td>\n",
       "      <td>Holluf Pile, 5220 Odense SØ</td>\n",
       "      <td>2500000.0</td>\n",
       "      <td>2025</td>\n",
       "      <td>114</td>\n",
       "      <td>4</td>\n",
       "      <td>1</td>\n",
       "      <td>Fri handel</td>\n",
       "      <td>2.5000</td>\n",
       "      <td>2.500000e+06</td>\n",
       "      <td>2.500000</td>\n",
       "      <td>5220</td>\n",
       "      <td>38</td>\n",
       "      <td>0</td>\n",
       "    </tr>\n",
       "    <tr>\n",
       "      <th>1069</th>\n",
       "      <td>Prinsesse Maries Allé 1, st.</td>\n",
       "      <td>5000 Odense C</td>\n",
       "      <td>887500.0</td>\n",
       "      <td>2025</td>\n",
       "      <td>70</td>\n",
       "      <td>2</td>\n",
       "      <td>1</td>\n",
       "      <td>Fri handel</td>\n",
       "      <td>0.8875</td>\n",
       "      <td>8.875000e+05</td>\n",
       "      <td>0.887500</td>\n",
       "      <td>5000</td>\n",
       "      <td>60</td>\n",
       "      <td>1</td>\n",
       "    </tr>\n",
       "    <tr>\n",
       "      <th>1070</th>\n",
       "      <td>Njalsvej 199</td>\n",
       "      <td>Højstrup, 5210 Odense NV</td>\n",
       "      <td>1650000.0</td>\n",
       "      <td>2025</td>\n",
       "      <td>78</td>\n",
       "      <td>4</td>\n",
       "      <td>1</td>\n",
       "      <td>Fri handel</td>\n",
       "      <td>1.6500</td>\n",
       "      <td>1.650000e+06</td>\n",
       "      <td>1.650000</td>\n",
       "      <td>5210</td>\n",
       "      <td>13</td>\n",
       "      <td>2</td>\n",
       "    </tr>\n",
       "    <tr>\n",
       "      <th>1071</th>\n",
       "      <td>Æblehaven 9</td>\n",
       "      <td>Bullerup, 5320 Agedrup</td>\n",
       "      <td>2200000.0</td>\n",
       "      <td>2025</td>\n",
       "      <td>134</td>\n",
       "      <td>4</td>\n",
       "      <td>1</td>\n",
       "      <td>Fri handel</td>\n",
       "      <td>2.2000</td>\n",
       "      <td>2.200000e+06</td>\n",
       "      <td>2.200000</td>\n",
       "      <td>5320</td>\n",
       "      <td>23</td>\n",
       "      <td>3</td>\n",
       "    </tr>\n",
       "    <tr>\n",
       "      <th>1072</th>\n",
       "      <td>Egholmen 47</td>\n",
       "      <td>Seden, 5240 Odense NØ</td>\n",
       "      <td>1575000.0</td>\n",
       "      <td>2025</td>\n",
       "      <td>110</td>\n",
       "      <td>4</td>\n",
       "      <td>2</td>\n",
       "      <td>Fri handel</td>\n",
       "      <td>1.5750</td>\n",
       "      <td>1.575000e+06</td>\n",
       "      <td>1.575000</td>\n",
       "      <td>5240</td>\n",
       "      <td>39</td>\n",
       "      <td>4</td>\n",
       "    </tr>\n",
       "    <tr>\n",
       "      <th>...</th>\n",
       "      <td>...</td>\n",
       "      <td>...</td>\n",
       "      <td>...</td>\n",
       "      <td>...</td>\n",
       "      <td>...</td>\n",
       "      <td>...</td>\n",
       "      <td>...</td>\n",
       "      <td>...</td>\n",
       "      <td>...</td>\n",
       "      <td>...</td>\n",
       "      <td>...</td>\n",
       "      <td>...</td>\n",
       "      <td>...</td>\n",
       "      <td>...</td>\n",
       "    </tr>\n",
       "    <tr>\n",
       "      <th>10766</th>\n",
       "      <td>Buen 31</td>\n",
       "      <td>Bullerup, 5320 Agedrup</td>\n",
       "      <td>950000.0</td>\n",
       "      <td>2020</td>\n",
       "      <td>93</td>\n",
       "      <td>2</td>\n",
       "      <td>1</td>\n",
       "      <td>Fri handel</td>\n",
       "      <td>0.9500</td>\n",
       "      <td>8.946626e+05</td>\n",
       "      <td>0.894663</td>\n",
       "      <td>5320</td>\n",
       "      <td>23</td>\n",
       "      <td>3</td>\n",
       "    </tr>\n",
       "    <tr>\n",
       "      <th>10767</th>\n",
       "      <td>Vårvangen 7</td>\n",
       "      <td>Skt Klemens, 5260 Odense S</td>\n",
       "      <td>2660000.0</td>\n",
       "      <td>2020</td>\n",
       "      <td>166</td>\n",
       "      <td>6</td>\n",
       "      <td>2</td>\n",
       "      <td>Fri handel</td>\n",
       "      <td>2.6600</td>\n",
       "      <td>2.505055e+06</td>\n",
       "      <td>2.505055</td>\n",
       "      <td>5260</td>\n",
       "      <td>67</td>\n",
       "      <td>21</td>\n",
       "    </tr>\n",
       "    <tr>\n",
       "      <th>10768</th>\n",
       "      <td>Thuresensgade 36, st. th.</td>\n",
       "      <td>5000 Odense C</td>\n",
       "      <td>913000.0</td>\n",
       "      <td>2020</td>\n",
       "      <td>47</td>\n",
       "      <td>1</td>\n",
       "      <td>1</td>\n",
       "      <td>Fri handel</td>\n",
       "      <td>0.9130</td>\n",
       "      <td>8.598178e+05</td>\n",
       "      <td>0.859818</td>\n",
       "      <td>5000</td>\n",
       "      <td>60</td>\n",
       "      <td>1</td>\n",
       "    </tr>\n",
       "    <tr>\n",
       "      <th>10769</th>\n",
       "      <td>Sukkeræble Have 5</td>\n",
       "      <td>Villestofte, 5210 Odense NV</td>\n",
       "      <td>4895000.0</td>\n",
       "      <td>2020</td>\n",
       "      <td>216</td>\n",
       "      <td>5</td>\n",
       "      <td>2</td>\n",
       "      <td>Fri handel</td>\n",
       "      <td>4.8950</td>\n",
       "      <td>4.609867e+06</td>\n",
       "      <td>4.609867</td>\n",
       "      <td>5210</td>\n",
       "      <td>73</td>\n",
       "      <td>39</td>\n",
       "    </tr>\n",
       "    <tr>\n",
       "      <th>10770</th>\n",
       "      <td>Rughavevej 4, 1.</td>\n",
       "      <td>5230 Odense M</td>\n",
       "      <td>2150000.0</td>\n",
       "      <td>2020</td>\n",
       "      <td>90</td>\n",
       "      <td>3</td>\n",
       "      <td>1</td>\n",
       "      <td>Fri handel</td>\n",
       "      <td>2.1500</td>\n",
       "      <td>2.024763e+06</td>\n",
       "      <td>2.024763</td>\n",
       "      <td>5230</td>\n",
       "      <td>76</td>\n",
       "      <td>7</td>\n",
       "    </tr>\n",
       "  </tbody>\n",
       "</table>\n",
       "<p>9384 rows × 14 columns</p>\n",
       "</div>"
      ],
      "text/plain": [
       "                            Adresse                     Post nr.       Pris  \\\n",
       "1068            Klokkens Kvarter 26  Holluf Pile, 5220 Odense SØ  2500000.0   \n",
       "1069   Prinsesse Maries Allé 1, st.                5000 Odense C   887500.0   \n",
       "1070                   Njalsvej 199     Højstrup, 5210 Odense NV  1650000.0   \n",
       "1071                    Æblehaven 9       Bullerup, 5320 Agedrup  2200000.0   \n",
       "1072                    Egholmen 47        Seden, 5240 Odense NØ  1575000.0   \n",
       "...                             ...                          ...        ...   \n",
       "10766                       Buen 31       Bullerup, 5320 Agedrup   950000.0   \n",
       "10767                   Vårvangen 7   Skt Klemens, 5260 Odense S  2660000.0   \n",
       "10768     Thuresensgade 36, st. th.                5000 Odense C   913000.0   \n",
       "10769             Sukkeræble Have 5  Villestofte, 5210 Odense NV  4895000.0   \n",
       "10770              Rughavevej 4, 1.                5230 Odense M  2150000.0   \n",
       "\n",
       "         År  Størrelse (m2)  Værelser  Toiletter      Handel  Pris i mio. kr.  \\\n",
       "1068   2025             114         4          1  Fri handel           2.5000   \n",
       "1069   2025              70         2          1  Fri handel           0.8875   \n",
       "1070   2025              78         4          1  Fri handel           1.6500   \n",
       "1071   2025             134         4          1  Fri handel           2.2000   \n",
       "1072   2025             110         4          2  Fri handel           1.5750   \n",
       "...     ...             ...       ...        ...         ...              ...   \n",
       "10766  2020              93         2          1  Fri handel           0.9500   \n",
       "10767  2020             166         6          2  Fri handel           2.6600   \n",
       "10768  2020              47         1          1  Fri handel           0.9130   \n",
       "10769  2020             216         5          2  Fri handel           4.8950   \n",
       "10770  2020              90         3          1  Fri handel           2.1500   \n",
       "\n",
       "       Normaliseret Pris (2025)  Normaliseret Pris i mio. kr. (2025)  \\\n",
       "1068               2.500000e+06                             2.500000   \n",
       "1069               8.875000e+05                             0.887500   \n",
       "1070               1.650000e+06                             1.650000   \n",
       "1071               2.200000e+06                             2.200000   \n",
       "1072               1.575000e+06                             1.575000   \n",
       "...                         ...                                  ...   \n",
       "10766              8.946626e+05                             0.894663   \n",
       "10767              2.505055e+06                             2.505055   \n",
       "10768              8.598178e+05                             0.859818   \n",
       "10769              4.609867e+06                             4.609867   \n",
       "10770              2.024763e+06                             2.024763   \n",
       "\n",
       "      Post nr.(kun tal)  Post nr. (kodet)  Post nr. (kodet - tilfældigt)  \n",
       "1068               5220                38                              0  \n",
       "1069               5000                60                              1  \n",
       "1070               5210                13                              2  \n",
       "1071               5320                23                              3  \n",
       "1072               5240                39                              4  \n",
       "...                 ...               ...                            ...  \n",
       "10766              5320                23                              3  \n",
       "10767              5260                67                             21  \n",
       "10768              5000                60                              1  \n",
       "10769              5210                73                             39  \n",
       "10770              5230                76                              7  \n",
       "\n",
       "[9384 rows x 14 columns]"
      ]
     },
     "execution_count": 29,
     "metadata": {},
     "output_type": "execute_result"
    }
   ],
   "source": [
    "data"
   ]
  },
  {
   "cell_type": "markdown",
   "metadata": {},
   "source": [
    "We are left with 9384 properties that are suitable for training and evaluation."
   ]
  },
  {
   "cell_type": "markdown",
   "metadata": {},
   "source": [
    "## Training"
   ]
  },
  {
   "cell_type": "markdown",
   "metadata": {},
   "source": [
    "I want to designate all the test data as the data from 2024 and 2025 and then training on all the prior data."
   ]
  },
  {
   "cell_type": "code",
   "execution_count": 30,
   "metadata": {},
   "outputs": [],
   "source": [
    "training_data, test_data = data[~data['År'].isin([2024,2025])], data[data['År'].isin([2024,2025])]\n",
    "features, target = ['Post nr. (kodet)','Værelser','Toiletter','Størrelse (m2)'], ['Normaliseret Pris (2025)']\n",
    "X, y = training_data[features], training_data[target]"
   ]
  },
  {
   "cell_type": "markdown",
   "metadata": {},
   "source": [
    "I will be training and validating by using k-fold cross validation."
   ]
  },
  {
   "cell_type": "code",
   "execution_count": 31,
   "metadata": {},
   "outputs": [],
   "source": [
    "from sklearn.model_selection import KFold\n",
    "from collections import defaultdict\n",
    "def get_folds(X,y,n):\n",
    "    folds = defaultdict(list)\n",
    "    fold = KFold(n_splits=n,shuffle=True)\n",
    "    splits = fold.split(X)\n",
    "    for i, (train_indices, val_indices) in enumerate(splits):\n",
    "        X_train, y_train = X[X.index.isin(train_indices)], y[y.index.isin(train_indices)]\n",
    "        X_val, y_val = X[X.index.isin(val_indices)], y[y.index.isin(val_indices)]\n",
    "        folds[i+1] = (X_train, X_val, y_train, y_val)\n",
    "    return folds"
   ]
  },
  {
   "cell_type": "markdown",
   "metadata": {},
   "source": [
    "First I try with a random forest regressor."
   ]
  },
  {
   "cell_type": "code",
   "execution_count": null,
   "metadata": {},
   "outputs": [
    {
     "name": "stderr",
     "output_type": "stream",
     "text": [
      "/Library/Frameworks/Python.framework/Versions/3.13/lib/python3.13/site-packages/sklearn/base.py:1389: DataConversionWarning: A column-vector y was passed when a 1d array was expected. Please change the shape of y to (n_samples,), for example using ravel().\n",
      "  return fit_method(estimator, *args, **kwargs)\n",
      "/Library/Frameworks/Python.framework/Versions/3.13/lib/python3.13/site-packages/sklearn/base.py:1389: DataConversionWarning: A column-vector y was passed when a 1d array was expected. Please change the shape of y to (n_samples,), for example using ravel().\n",
      "  return fit_method(estimator, *args, **kwargs)\n",
      "/Library/Frameworks/Python.framework/Versions/3.13/lib/python3.13/site-packages/sklearn/base.py:1389: DataConversionWarning: A column-vector y was passed when a 1d array was expected. Please change the shape of y to (n_samples,), for example using ravel().\n",
      "  return fit_method(estimator, *args, **kwargs)\n",
      "/Library/Frameworks/Python.framework/Versions/3.13/lib/python3.13/site-packages/sklearn/base.py:1389: DataConversionWarning: A column-vector y was passed when a 1d array was expected. Please change the shape of y to (n_samples,), for example using ravel().\n",
      "  return fit_method(estimator, *args, **kwargs)\n",
      "/Library/Frameworks/Python.framework/Versions/3.13/lib/python3.13/site-packages/sklearn/base.py:1389: DataConversionWarning: A column-vector y was passed when a 1d array was expected. Please change the shape of y to (n_samples,), for example using ravel().\n",
      "  return fit_method(estimator, *args, **kwargs)\n"
     ]
    },
    {
     "data": {
      "text/plain": [
       "np.float64(680196.7287793062)"
      ]
     },
     "execution_count": 32,
     "metadata": {},
     "output_type": "execute_result"
    }
   ],
   "source": [
    "from sklearn.ensemble import RandomForestRegressor\n",
    "from sklearn.metrics import mean_absolute_error\n",
    "import numpy as np\n",
    "forest = RandomForestRegressor()\n",
    "folds = get_folds(X,y,5)\n",
    "scores = []\n",
    "forest_predictions = []\n",
    "for X_train, X_val, y_train, y_val in folds.values():\n",
    "    forest.fit(X_train,y_train)\n",
    "    predictions = forest.predict(X_val)\n",
    "    score = mean_absolute_error(predictions,y_val)\n",
    "    scores.append(score)\n",
    "forest_mean_scores = np.mean(scores)\n",
    "forest_mean_scores"
   ]
  },
  {
   "cell_type": "markdown",
   "metadata": {},
   "source": [
    "Then we can try with XGBoost."
   ]
  },
  {
   "cell_type": "code",
   "execution_count": null,
   "metadata": {},
   "outputs": [
    {
     "name": "stderr",
     "output_type": "stream",
     "text": [
      "/Library/Frameworks/Python.framework/Versions/3.13/lib/python3.13/site-packages/sklearn/ensemble/_gb.py:672: DataConversionWarning: A column-vector y was passed when a 1d array was expected. Please change the shape of y to (n_samples, ), for example using ravel().\n",
      "  y = column_or_1d(y, warn=True)  # TODO: Is this still required?\n",
      "/Library/Frameworks/Python.framework/Versions/3.13/lib/python3.13/site-packages/sklearn/ensemble/_gb.py:672: DataConversionWarning: A column-vector y was passed when a 1d array was expected. Please change the shape of y to (n_samples, ), for example using ravel().\n",
      "  y = column_or_1d(y, warn=True)  # TODO: Is this still required?\n",
      "/Library/Frameworks/Python.framework/Versions/3.13/lib/python3.13/site-packages/sklearn/ensemble/_gb.py:672: DataConversionWarning: A column-vector y was passed when a 1d array was expected. Please change the shape of y to (n_samples, ), for example using ravel().\n",
      "  y = column_or_1d(y, warn=True)  # TODO: Is this still required?\n",
      "/Library/Frameworks/Python.framework/Versions/3.13/lib/python3.13/site-packages/sklearn/ensemble/_gb.py:672: DataConversionWarning: A column-vector y was passed when a 1d array was expected. Please change the shape of y to (n_samples, ), for example using ravel().\n",
      "  y = column_or_1d(y, warn=True)  # TODO: Is this still required?\n",
      "/Library/Frameworks/Python.framework/Versions/3.13/lib/python3.13/site-packages/sklearn/ensemble/_gb.py:672: DataConversionWarning: A column-vector y was passed when a 1d array was expected. Please change the shape of y to (n_samples, ), for example using ravel().\n",
      "  y = column_or_1d(y, warn=True)  # TODO: Is this still required?\n"
     ]
    },
    {
     "data": {
      "text/plain": [
       "np.float64(634957.7937266508)"
      ]
     },
     "execution_count": 35,
     "metadata": {},
     "output_type": "execute_result"
    }
   ],
   "source": [
    "from sklearn.ensemble import GradientBoostingRegressor\n",
    "grad = GradientBoostingRegressor()\n",
    "folds = get_folds(X,y,5)\n",
    "scores = []\n",
    "for X_train, X_val, y_train, y_val in folds.values():\n",
    "    grad.fit(X_train,y_train)\n",
    "    predictions = grad.predict(X_val)\n",
    "    scores.append(mean_absolute_error(predictions,y_val))\n",
    "grad_mean_scores = np.mean(scores)\n",
    "grad_mean_scores"
   ]
  },
  {
   "cell_type": "markdown",
   "metadata": {},
   "source": [
    "It seems like a lot, but remember, we saw there was properties that completely broke with reality in terms of their listed price. So it could be a couple of properties that contribute with large deviations to the total error. But we can investigate that!\n",
    "We could perhaps also lower the error by fine-tuning the parameters, but I am not too keen on that."
   ]
  },
  {
   "cell_type": "markdown",
   "metadata": {},
   "source": [
    "## Evaluation"
   ]
  },
  {
   "cell_type": "code",
   "execution_count": 34,
   "metadata": {},
   "outputs": [
    {
     "name": "stderr",
     "output_type": "stream",
     "text": [
      "/Library/Frameworks/Python.framework/Versions/3.13/lib/python3.13/site-packages/sklearn/ensemble/_gb.py:672: DataConversionWarning: A column-vector y was passed when a 1d array was expected. Please change the shape of y to (n_samples, ), for example using ravel().\n",
      "  y = column_or_1d(y, warn=True)  # TODO: Is this still required?\n"
     ]
    },
    {
     "data": {
      "text/plain": [
       "670254.7682290105"
      ]
     },
     "execution_count": 34,
     "metadata": {},
     "output_type": "execute_result"
    }
   ],
   "source": [
    "grad.fit(X,y)\n",
    "X_test, y_test = test_data[features], test_data[target]\n",
    "predictions = grad.predict(X_test)\n",
    "mean_absolute_error(predictions,y_test)"
   ]
  },
  {
   "cell_type": "markdown",
   "metadata": {},
   "source": [
    "Amazingly enough, not a bad performance compared to out validation results. So we generalize nicely with the model, which is good.\n",
    "\n",
    "Pricing properties correctly is a difficult task(just read this: https://finans.dk/privatokonomi/ECE13528444/beregning-gabet-mellem-offentlig-ejendomsvurdering-og-salgspris-er-enormt/), but hopefully this notebook highlights my approach to modelling with data I have collected myself.\n",
    "\n",
    "What could be an improvement of the model is to locate points of interest near each property.\n",
    "\\\n",
    "How the property is heated and what material is used.\n",
    "\\\n",
    "Try to weight the model with prices for the sales of the nearby properties.\n",
    "\\\n",
    "COLLECT MORE DATA! The normalization seems to have been working fine. The training data has exclusively been data NOT from 2024 and 2025(which is like a fourth of the total data) where the prices were normalized to match what a 2024/25 equivalent could be and the mean score does deviate, but not by a lot! So we could just collect a lot more data and normalize it."
   ]
  }
 ],
 "metadata": {
  "kernelspec": {
   "display_name": "Python 3",
   "language": "python",
   "name": "python3"
  },
  "language_info": {
   "codemirror_mode": {
    "name": "ipython",
    "version": 3
   },
   "file_extension": ".py",
   "mimetype": "text/x-python",
   "name": "python",
   "nbconvert_exporter": "python",
   "pygments_lexer": "ipython3",
   "version": "3.13.2"
  }
 },
 "nbformat": 4,
 "nbformat_minor": 2
}
